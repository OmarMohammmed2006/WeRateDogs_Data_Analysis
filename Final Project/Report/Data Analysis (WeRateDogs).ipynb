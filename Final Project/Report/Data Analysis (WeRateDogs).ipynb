{
 "cells": [
  {
   "cell_type": "markdown",
   "id": "aadca2cc",
   "metadata": {},
   "source": [
    "# Final Project: Wrangling and Analyzing Twitter Data\n",
    "## Table of Contents\n",
    "<ul>\n",
    "<li><a href=\"#Gather\">Data Gathering</a></li>\n",
    "<li><a href=\"#Assess\">Data Assessing</a></li>\n",
    "<li><a href=\"#Clean\">Data Cleaning</a></li>  \n",
    "<li><a href=\"#A\">Analyzing and Visualizing Data</a></li>    \n",
    "</ul>"
   ]
  },
  {
   "cell_type": "code",
   "execution_count": 879,
   "id": "e0ccd7c5",
   "metadata": {},
   "outputs": [],
   "source": [
    "import numpy as np\n",
    "import pandas as pd\n",
    "import matplotlib.pyplot as plt\n",
    "import seaborn as sb\n",
    "import requests\n",
    "import json\n",
    "import tweepy\n",
    "import operator"
   ]
  },
  {
   "cell_type": "markdown",
   "id": "b07ff05b",
   "metadata": {},
   "source": [
    "<a id='Gather'></a>\n",
    "## Data Gathering:"
   ]
  },
  {
   "cell_type": "markdown",
   "id": "4109c67b",
   "metadata": {},
   "source": [
    "### 1st Download the Image Predictions File and read it:"
   ]
  },
  {
   "cell_type": "code",
   "execution_count": 880,
   "id": "88ed1291",
   "metadata": {},
   "outputs": [
    {
     "data": {
      "text/plain": [
       "200"
      ]
     },
     "execution_count": 880,
     "metadata": {},
     "output_type": "execute_result"
    }
   ],
   "source": [
    "r = requests.get('https://d17h27t6h515a5.cloudfront.net/topher/2017/August/599fd2ad_image-predictions/image-predictions.tsv', auth=('user', 'pass'))\n",
    "r.status_code"
   ]
  },
  {
   "cell_type": "code",
   "execution_count": 881,
   "id": "6d60d2fa",
   "metadata": {},
   "outputs": [],
   "source": [
    "image_pre = pd.read_csv(\"image-predictions.tsv\", sep = '\\t')"
   ]
  },
  {
   "cell_type": "markdown",
   "id": "4848c927",
   "metadata": {},
   "source": [
    "### 2nd Read the CSV file:"
   ]
  },
  {
   "cell_type": "code",
   "execution_count": 882,
   "id": "5ea96728",
   "metadata": {},
   "outputs": [],
   "source": [
    "TArchive = pd.read_csv(\"twitter-archive-enhanced.csv\")\n"
   ]
  },
  {
   "cell_type": "markdown",
   "id": "cac1a7cc",
   "metadata": {},
   "source": [
    "### 3rd gather data by Twitter Api:"
   ]
  },
  {
   "cell_type": "code",
   "execution_count": 883,
   "id": "7bcd3a63",
   "metadata": {},
   "outputs": [],
   "source": [
    "#Api_Key = 'Secret'\n",
    "#Api_Secret = 'Secret'\n",
    "#access_token = 'Secret'\n",
    "#access_secret = 'Secret'\n",
    "\n",
    "#auth = tweepy.OAuthHandler(consumer_key, consumer_secret)\n",
    "#auth.set_access_token(access_token, access_secret)\n",
    "\n",
    "#api = tweepy.API(auth)"
   ]
  },
  {
   "cell_type": "code",
   "execution_count": 884,
   "id": "911c8701",
   "metadata": {},
   "outputs": [],
   "source": [
    "#tweet_ids = df.tweet_id.values\n",
    "#tweet_ids"
   ]
  },
  {
   "cell_type": "code",
   "execution_count": 885,
   "id": "1703f1bc",
   "metadata": {},
   "outputs": [
    {
     "name": "stdout",
     "output_type": "stream",
     "text": [
      "\n"
     ]
    }
   ],
   "source": [
    "'''\n",
    "count = 0\n",
    "fails_dict = {}\n",
    "start = timer()\n",
    "with open('tweet_json.txt', 'w') as outfile:\n",
    "    for tweet_id in tweet_ids:\n",
    "        count += 1\n",
    "        print(str(count) + \": \" + str(tweet_id))\n",
    "        try:\n",
    "            tweet = api.get_status(tweet_id, tweet_mode='extended')\n",
    "            print(\"Success\")\n",
    "            json.dump(tweet._json, outfile)\n",
    "            outfile.write('\\n')\n",
    "        except tweepy.TweepyException as e:\n",
    "            print(\"Fail\")\n",
    "            fails_dict[tweet_id] = e\n",
    "            pass\n",
    "end = timer()\n",
    "print(end - start)\n",
    "print(fails_dict)\n",
    "'''\n",
    "print(\"\")"
   ]
  },
  {
   "cell_type": "code",
   "execution_count": 886,
   "id": "d479ae8c",
   "metadata": {},
   "outputs": [],
   "source": [
    "tweet_json = pd.read_json('tweet.json', lines=True)"
   ]
  },
  {
   "cell_type": "markdown",
   "id": "531b645e",
   "metadata": {},
   "source": [
    "<a id='Assess'></a>\n",
    "## Assessing Data:\n",
    "<ul>\n",
    "<li><a href=\"#V\">Visual assessment</a></li>\n",
    "<li><a href=\"#P\">Programmatic assessment</a></li>\n",
    "</ul>"
   ]
  },
  {
   "cell_type": "markdown",
   "id": "082bb8b0",
   "metadata": {},
   "source": [
    "<a id='V'></a>\n",
    "### Visual assessment:"
   ]
  },
  {
   "cell_type": "markdown",
   "id": "5b994f29",
   "metadata": {},
   "source": [
    "> i used code in Visual assessment as it is more easy to show the parts i found issues in instead of sharing pictures although i did find these issues by looking through the data "
   ]
  },
  {
   "cell_type": "code",
   "execution_count": 887,
   "id": "c17cf448",
   "metadata": {},
   "outputs": [
    {
     "data": {
      "text/html": [
       "<div>\n",
       "<style scoped>\n",
       "    .dataframe tbody tr th:only-of-type {\n",
       "        vertical-align: middle;\n",
       "    }\n",
       "\n",
       "    .dataframe tbody tr th {\n",
       "        vertical-align: top;\n",
       "    }\n",
       "\n",
       "    .dataframe thead th {\n",
       "        text-align: right;\n",
       "    }\n",
       "</style>\n",
       "<table border=\"1\" class=\"dataframe\">\n",
       "  <thead>\n",
       "    <tr style=\"text-align: right;\">\n",
       "      <th></th>\n",
       "      <th>timestamp</th>\n",
       "    </tr>\n",
       "  </thead>\n",
       "  <tbody>\n",
       "    <tr>\n",
       "      <th>753</th>\n",
       "      <td>2016-09-22 01:54:34 +0000</td>\n",
       "    </tr>\n",
       "    <tr>\n",
       "      <th>1798</th>\n",
       "      <td>2015-12-16 20:48:40 +0000</td>\n",
       "    </tr>\n",
       "    <tr>\n",
       "      <th>562</th>\n",
       "      <td>2016-11-26 19:50:26 +0000</td>\n",
       "    </tr>\n",
       "    <tr>\n",
       "      <th>2074</th>\n",
       "      <td>2015-11-29 05:52:33 +0000</td>\n",
       "    </tr>\n",
       "    <tr>\n",
       "      <th>2211</th>\n",
       "      <td>2015-11-23 02:19:29 +0000</td>\n",
       "    </tr>\n",
       "  </tbody>\n",
       "</table>\n",
       "</div>"
      ],
      "text/plain": [
       "                      timestamp\n",
       "753   2016-09-22 01:54:34 +0000\n",
       "1798  2015-12-16 20:48:40 +0000\n",
       "562   2016-11-26 19:50:26 +0000\n",
       "2074  2015-11-29 05:52:33 +0000\n",
       "2211  2015-11-23 02:19:29 +0000"
      ]
     },
     "execution_count": 887,
     "metadata": {},
     "output_type": "execute_result"
    }
   ],
   "source": [
    "TArchive[[\"timestamp\"]].sample(5)"
   ]
  },
  {
   "cell_type": "markdown",
   "id": "329bd469",
   "metadata": {},
   "source": [
    "> As you can see in the Column Above named \"timestamp\" in the end of every row there is a strange formula which is +0000 which i find it's not important and this is a quality issue"
   ]
  },
  {
   "cell_type": "code",
   "execution_count": 888,
   "id": "f505e915",
   "metadata": {},
   "outputs": [
    {
     "data": {
      "text/html": [
       "<div>\n",
       "<style scoped>\n",
       "    .dataframe tbody tr th:only-of-type {\n",
       "        vertical-align: middle;\n",
       "    }\n",
       "\n",
       "    .dataframe tbody tr th {\n",
       "        vertical-align: top;\n",
       "    }\n",
       "\n",
       "    .dataframe thead th {\n",
       "        text-align: right;\n",
       "    }\n",
       "</style>\n",
       "<table border=\"1\" class=\"dataframe\">\n",
       "  <thead>\n",
       "    <tr style=\"text-align: right;\">\n",
       "      <th></th>\n",
       "      <th>rating_numerator</th>\n",
       "    </tr>\n",
       "  </thead>\n",
       "  <tbody>\n",
       "    <tr>\n",
       "      <th>845</th>\n",
       "      <td>9</td>\n",
       "    </tr>\n",
       "    <tr>\n",
       "      <th>1799</th>\n",
       "      <td>9</td>\n",
       "    </tr>\n",
       "    <tr>\n",
       "      <th>1912</th>\n",
       "      <td>8</td>\n",
       "    </tr>\n",
       "    <tr>\n",
       "      <th>2056</th>\n",
       "      <td>9</td>\n",
       "    </tr>\n",
       "    <tr>\n",
       "      <th>516</th>\n",
       "      <td>24</td>\n",
       "    </tr>\n",
       "  </tbody>\n",
       "</table>\n",
       "</div>"
      ],
      "text/plain": [
       "      rating_numerator\n",
       "845                  9\n",
       "1799                 9\n",
       "1912                 8\n",
       "2056                 9\n",
       "516                 24"
      ]
     },
     "execution_count": 888,
     "metadata": {},
     "output_type": "execute_result"
    }
   ],
   "source": [
    "TArchive[(TArchive.rating_numerator < 10) | (TArchive.rating_numerator > 20)][[\"rating_numerator\"]].sample(5)"
   ]
  },
  {
   "cell_type": "markdown",
   "id": "603bd35f",
   "metadata": {},
   "source": [
    ">There are some rows that contains numerators higher than 20 and others with lower than 10 which may seem impossible according the scale of the WeRateDogs twitter account, \"The numerators, though? Almost always greater than 10. 11/10, 12/10, 13/10\" so i think they are either outliers or they are miswrittern and the sum of the rows with this issue are 440"
   ]
  },
  {
   "cell_type": "code",
   "execution_count": 889,
   "id": "68852b2c",
   "metadata": {},
   "outputs": [
    {
     "data": {
      "text/html": [
       "<div>\n",
       "<style scoped>\n",
       "    .dataframe tbody tr th:only-of-type {\n",
       "        vertical-align: middle;\n",
       "    }\n",
       "\n",
       "    .dataframe tbody tr th {\n",
       "        vertical-align: top;\n",
       "    }\n",
       "\n",
       "    .dataframe thead th {\n",
       "        text-align: right;\n",
       "    }\n",
       "</style>\n",
       "<table border=\"1\" class=\"dataframe\">\n",
       "  <thead>\n",
       "    <tr style=\"text-align: right;\">\n",
       "      <th></th>\n",
       "      <th>rating_denominator</th>\n",
       "    </tr>\n",
       "  </thead>\n",
       "  <tbody>\n",
       "    <tr>\n",
       "      <th>1662</th>\n",
       "      <td>11</td>\n",
       "    </tr>\n",
       "    <tr>\n",
       "      <th>1779</th>\n",
       "      <td>120</td>\n",
       "    </tr>\n",
       "    <tr>\n",
       "      <th>1663</th>\n",
       "      <td>16</td>\n",
       "    </tr>\n",
       "  </tbody>\n",
       "</table>\n",
       "</div>"
      ],
      "text/plain": [
       "      rating_denominator\n",
       "1662                  11\n",
       "1779                 120\n",
       "1663                  16"
      ]
     },
     "execution_count": 889,
     "metadata": {},
     "output_type": "execute_result"
    }
   ],
   "source": [
    "TArchive[TArchive.rating_denominator != 10][[\"rating_denominator\"]].sample(3)"
   ]
  },
  {
   "cell_type": "markdown",
   "id": "4f1d1246",
   "metadata": {},
   "source": [
    "> The same as the above issue the denominator can't be any number other than 10 because These ratings almost always have a denominator of 10 according to WeRateDogs the sum of the rows with this issue are 23"
   ]
  },
  {
   "cell_type": "code",
   "execution_count": 890,
   "id": "81d9f0eb",
   "metadata": {},
   "outputs": [
    {
     "data": {
      "text/html": [
       "<div>\n",
       "<style scoped>\n",
       "    .dataframe tbody tr th:only-of-type {\n",
       "        vertical-align: middle;\n",
       "    }\n",
       "\n",
       "    .dataframe tbody tr th {\n",
       "        vertical-align: top;\n",
       "    }\n",
       "\n",
       "    .dataframe thead th {\n",
       "        text-align: right;\n",
       "    }\n",
       "</style>\n",
       "<table border=\"1\" class=\"dataframe\">\n",
       "  <thead>\n",
       "    <tr style=\"text-align: right;\">\n",
       "      <th></th>\n",
       "      <th>name</th>\n",
       "    </tr>\n",
       "  </thead>\n",
       "  <tbody>\n",
       "    <tr>\n",
       "      <th>2348</th>\n",
       "      <td>a</td>\n",
       "    </tr>\n",
       "    <tr>\n",
       "      <th>1499</th>\n",
       "      <td>a</td>\n",
       "    </tr>\n",
       "    <tr>\n",
       "      <th>2222</th>\n",
       "      <td>a</td>\n",
       "    </tr>\n",
       "    <tr>\n",
       "      <th>2353</th>\n",
       "      <td>a</td>\n",
       "    </tr>\n",
       "    <tr>\n",
       "      <th>1955</th>\n",
       "      <td>a</td>\n",
       "    </tr>\n",
       "  </tbody>\n",
       "</table>\n",
       "</div>"
      ],
      "text/plain": [
       "     name\n",
       "2348    a\n",
       "1499    a\n",
       "2222    a\n",
       "2353    a\n",
       "1955    a"
      ]
     },
     "execution_count": 890,
     "metadata": {},
     "output_type": "execute_result"
    }
   ],
   "source": [
    "TArchive[TArchive.name.str.len() == 1][[\"name\"]].sample(5)"
   ]
  },
  {
   "cell_type": "markdown",
   "id": "1d577e51",
   "metadata": {},
   "source": [
    ">some dog names contain only one letter which is not possible and number of rows with this issue is 56"
   ]
  },
  {
   "cell_type": "code",
   "execution_count": 891,
   "id": "0d38f729",
   "metadata": {},
   "outputs": [
    {
     "data": {
      "text/html": [
       "<div>\n",
       "<style scoped>\n",
       "    .dataframe tbody tr th:only-of-type {\n",
       "        vertical-align: middle;\n",
       "    }\n",
       "\n",
       "    .dataframe tbody tr th {\n",
       "        vertical-align: top;\n",
       "    }\n",
       "\n",
       "    .dataframe thead th {\n",
       "        text-align: right;\n",
       "    }\n",
       "</style>\n",
       "<table border=\"1\" class=\"dataframe\">\n",
       "  <thead>\n",
       "    <tr style=\"text-align: right;\">\n",
       "      <th></th>\n",
       "      <th>doggo</th>\n",
       "      <th>floofer</th>\n",
       "      <th>pupper</th>\n",
       "      <th>puppo</th>\n",
       "    </tr>\n",
       "  </thead>\n",
       "  <tbody>\n",
       "    <tr>\n",
       "      <th>2139</th>\n",
       "      <td>None</td>\n",
       "      <td>None</td>\n",
       "      <td>None</td>\n",
       "      <td>None</td>\n",
       "    </tr>\n",
       "    <tr>\n",
       "      <th>549</th>\n",
       "      <td>None</td>\n",
       "      <td>None</td>\n",
       "      <td>None</td>\n",
       "      <td>None</td>\n",
       "    </tr>\n",
       "    <tr>\n",
       "      <th>2026</th>\n",
       "      <td>None</td>\n",
       "      <td>None</td>\n",
       "      <td>None</td>\n",
       "      <td>None</td>\n",
       "    </tr>\n",
       "    <tr>\n",
       "      <th>1259</th>\n",
       "      <td>None</td>\n",
       "      <td>None</td>\n",
       "      <td>None</td>\n",
       "      <td>None</td>\n",
       "    </tr>\n",
       "    <tr>\n",
       "      <th>499</th>\n",
       "      <td>doggo</td>\n",
       "      <td>None</td>\n",
       "      <td>None</td>\n",
       "      <td>None</td>\n",
       "    </tr>\n",
       "  </tbody>\n",
       "</table>\n",
       "</div>"
      ],
      "text/plain": [
       "      doggo floofer pupper puppo\n",
       "2139   None    None   None  None\n",
       "549    None    None   None  None\n",
       "2026   None    None   None  None\n",
       "1259   None    None   None  None\n",
       "499   doggo    None   None  None"
      ]
     },
     "execution_count": 891,
     "metadata": {},
     "output_type": "execute_result"
    }
   ],
   "source": [
    "TArchive[[\"doggo\", \"floofer\", \"pupper\", \"puppo\"]].sample(5)"
   ]
  },
  {
   "cell_type": "markdown",
   "id": "ba9e4c35",
   "metadata": {},
   "source": [
    ">these 4 columns can be joined into 1 column which can be named dog type which may appear to be better and this is a Tidiness issue "
   ]
  },
  {
   "cell_type": "code",
   "execution_count": 892,
   "id": "5708e701",
   "metadata": {},
   "outputs": [
    {
     "data": {
      "text/html": [
       "<div>\n",
       "<style scoped>\n",
       "    .dataframe tbody tr th:only-of-type {\n",
       "        vertical-align: middle;\n",
       "    }\n",
       "\n",
       "    .dataframe tbody tr th {\n",
       "        vertical-align: top;\n",
       "    }\n",
       "\n",
       "    .dataframe thead th {\n",
       "        text-align: right;\n",
       "    }\n",
       "</style>\n",
       "<table border=\"1\" class=\"dataframe\">\n",
       "  <thead>\n",
       "    <tr style=\"text-align: right;\">\n",
       "      <th></th>\n",
       "      <th>rating_numerator</th>\n",
       "      <th>rating_denominator</th>\n",
       "    </tr>\n",
       "  </thead>\n",
       "  <tbody>\n",
       "    <tr>\n",
       "      <th>1358</th>\n",
       "      <td>12</td>\n",
       "      <td>10</td>\n",
       "    </tr>\n",
       "    <tr>\n",
       "      <th>1563</th>\n",
       "      <td>10</td>\n",
       "      <td>10</td>\n",
       "    </tr>\n",
       "    <tr>\n",
       "      <th>166</th>\n",
       "      <td>12</td>\n",
       "      <td>10</td>\n",
       "    </tr>\n",
       "    <tr>\n",
       "      <th>104</th>\n",
       "      <td>13</td>\n",
       "      <td>10</td>\n",
       "    </tr>\n",
       "    <tr>\n",
       "      <th>371</th>\n",
       "      <td>12</td>\n",
       "      <td>10</td>\n",
       "    </tr>\n",
       "  </tbody>\n",
       "</table>\n",
       "</div>"
      ],
      "text/plain": [
       "      rating_numerator  rating_denominator\n",
       "1358                12                  10\n",
       "1563                10                  10\n",
       "166                 12                  10\n",
       "104                 13                  10\n",
       "371                 12                  10"
      ]
     },
     "execution_count": 892,
     "metadata": {},
     "output_type": "execute_result"
    }
   ],
   "source": [
    "TArchive[[\"rating_numerator\", \"rating_denominator\"]].sample(5)"
   ]
  },
  {
   "cell_type": "markdown",
   "id": "39b890e2",
   "metadata": {},
   "source": [
    ">the same issue as the above the 2 ratings columns can be joined into 1 column named Dog Rate"
   ]
  },
  {
   "cell_type": "code",
   "execution_count": 893,
   "id": "8850c700",
   "metadata": {},
   "outputs": [
    {
     "data": {
      "text/html": [
       "<div>\n",
       "<style scoped>\n",
       "    .dataframe tbody tr th:only-of-type {\n",
       "        vertical-align: middle;\n",
       "    }\n",
       "\n",
       "    .dataframe tbody tr th {\n",
       "        vertical-align: top;\n",
       "    }\n",
       "\n",
       "    .dataframe thead th {\n",
       "        text-align: right;\n",
       "    }\n",
       "</style>\n",
       "<table border=\"1\" class=\"dataframe\">\n",
       "  <thead>\n",
       "    <tr style=\"text-align: right;\">\n",
       "      <th></th>\n",
       "      <th>timestamp</th>\n",
       "    </tr>\n",
       "  </thead>\n",
       "  <tbody>\n",
       "    <tr>\n",
       "      <th>1606</th>\n",
       "      <td>2016-01-09 03:40:16 +0000</td>\n",
       "    </tr>\n",
       "    <tr>\n",
       "      <th>1294</th>\n",
       "      <td>2016-03-10 18:25:30 +0000</td>\n",
       "    </tr>\n",
       "    <tr>\n",
       "      <th>1298</th>\n",
       "      <td>2016-03-10 01:35:01 +0000</td>\n",
       "    </tr>\n",
       "  </tbody>\n",
       "</table>\n",
       "</div>"
      ],
      "text/plain": [
       "                      timestamp\n",
       "1606  2016-01-09 03:40:16 +0000\n",
       "1294  2016-03-10 18:25:30 +0000\n",
       "1298  2016-03-10 01:35:01 +0000"
      ]
     },
     "execution_count": 893,
     "metadata": {},
     "output_type": "execute_result"
    }
   ],
   "source": [
    "TArchive[[\"timestamp\"]].sample(3)"
   ]
  },
  {
   "cell_type": "markdown",
   "id": "494bd0b8",
   "metadata": {},
   "source": [
    "> in this column the opposite may occur each column contains both a date and time in hours so it will be better to split each column into 2 other columns holding the names \"Date\", and \"time\" to avoid confusion"
   ]
  },
  {
   "cell_type": "code",
   "execution_count": 894,
   "id": "5e7de56b",
   "metadata": {},
   "outputs": [
    {
     "data": {
      "text/html": [
       "<div>\n",
       "<style scoped>\n",
       "    .dataframe tbody tr th:only-of-type {\n",
       "        vertical-align: middle;\n",
       "    }\n",
       "\n",
       "    .dataframe tbody tr th {\n",
       "        vertical-align: top;\n",
       "    }\n",
       "\n",
       "    .dataframe thead th {\n",
       "        text-align: right;\n",
       "    }\n",
       "</style>\n",
       "<table border=\"1\" class=\"dataframe\">\n",
       "  <thead>\n",
       "    <tr style=\"text-align: right;\">\n",
       "      <th></th>\n",
       "      <th>name</th>\n",
       "    </tr>\n",
       "  </thead>\n",
       "  <tbody>\n",
       "    <tr>\n",
       "      <th>1810</th>\n",
       "      <td>None</td>\n",
       "    </tr>\n",
       "    <tr>\n",
       "      <th>1102</th>\n",
       "      <td>None</td>\n",
       "    </tr>\n",
       "    <tr>\n",
       "      <th>494</th>\n",
       "      <td>None</td>\n",
       "    </tr>\n",
       "  </tbody>\n",
       "</table>\n",
       "</div>"
      ],
      "text/plain": [
       "      name\n",
       "1810  None\n",
       "1102  None\n",
       "494   None"
      ]
     },
     "execution_count": 894,
     "metadata": {},
     "output_type": "execute_result"
    }
   ],
   "source": [
    "TArchive[TArchive.name == \"None\"][[\"name\"]].sample(3)"
   ]
  },
  {
   "cell_type": "markdown",
   "id": "81b03b31",
   "metadata": {},
   "source": [
    "> some dog names are written \"None\" it would be better to change these factors to nulls because the computer will read them as dog names not nulls although they are orginally nulls"
   ]
  },
  {
   "cell_type": "code",
   "execution_count": 895,
   "id": "ec9deb0f",
   "metadata": {},
   "outputs": [
    {
     "data": {
      "text/html": [
       "<div>\n",
       "<style scoped>\n",
       "    .dataframe tbody tr th:only-of-type {\n",
       "        vertical-align: middle;\n",
       "    }\n",
       "\n",
       "    .dataframe tbody tr th {\n",
       "        vertical-align: top;\n",
       "    }\n",
       "\n",
       "    .dataframe thead th {\n",
       "        text-align: right;\n",
       "    }\n",
       "</style>\n",
       "<table border=\"1\" class=\"dataframe\">\n",
       "  <thead>\n",
       "    <tr style=\"text-align: right;\">\n",
       "      <th></th>\n",
       "      <th>retweeted_status_id</th>\n",
       "      <th>retweeted_status_user_id</th>\n",
       "      <th>retweeted_status_timestamp</th>\n",
       "    </tr>\n",
       "  </thead>\n",
       "  <tbody>\n",
       "    <tr>\n",
       "      <th>250</th>\n",
       "      <td>7.733088e+17</td>\n",
       "      <td>4.196984e+09</td>\n",
       "      <td>2016-09-06 23:56:05 +0000</td>\n",
       "    </tr>\n",
       "    <tr>\n",
       "      <th>615</th>\n",
       "      <td>7.809316e+17</td>\n",
       "      <td>4.196984e+09</td>\n",
       "      <td>2016-09-28 00:46:20 +0000</td>\n",
       "    </tr>\n",
       "    <tr>\n",
       "      <th>386</th>\n",
       "      <td>8.099208e+17</td>\n",
       "      <td>4.196984e+09</td>\n",
       "      <td>2016-12-17 00:38:52 +0000</td>\n",
       "    </tr>\n",
       "    <tr>\n",
       "      <th>431</th>\n",
       "      <td>8.192277e+17</td>\n",
       "      <td>4.196984e+09</td>\n",
       "      <td>2017-01-11 17:01:16 +0000</td>\n",
       "    </tr>\n",
       "    <tr>\n",
       "      <th>455</th>\n",
       "      <td>8.164506e+17</td>\n",
       "      <td>4.196984e+09</td>\n",
       "      <td>2017-01-04 01:05:59 +0000</td>\n",
       "    </tr>\n",
       "  </tbody>\n",
       "</table>\n",
       "</div>"
      ],
      "text/plain": [
       "     retweeted_status_id  retweeted_status_user_id retweeted_status_timestamp\n",
       "250         7.733088e+17              4.196984e+09  2016-09-06 23:56:05 +0000\n",
       "615         7.809316e+17              4.196984e+09  2016-09-28 00:46:20 +0000\n",
       "386         8.099208e+17              4.196984e+09  2016-12-17 00:38:52 +0000\n",
       "431         8.192277e+17              4.196984e+09  2017-01-11 17:01:16 +0000\n",
       "455         8.164506e+17              4.196984e+09  2017-01-04 01:05:59 +0000"
      ]
     },
     "execution_count": 895,
     "metadata": {},
     "output_type": "execute_result"
    }
   ],
   "source": [
    "TArchive[TArchive.retweeted_status_id.notnull()][[\"retweeted_status_id\", \"retweeted_status_user_id\", \"retweeted_status_timestamp\"]].sample(5)"
   ]
  },
  {
   "cell_type": "markdown",
   "id": "a2948ff2",
   "metadata": {},
   "source": [
    "> it appears from above that these rows are the retweets so we must remove them as demanded by the project "
   ]
  },
  {
   "cell_type": "markdown",
   "id": "7d2ee4f8",
   "metadata": {},
   "source": [
    "<a id='P'></a>\n",
    "### Programmatic assessment:"
   ]
  },
  {
   "cell_type": "code",
   "execution_count": 896,
   "id": "8a0c8b81",
   "metadata": {},
   "outputs": [
    {
     "name": "stdout",
     "output_type": "stream",
     "text": [
      "<class 'pandas.core.frame.DataFrame'>\n",
      "RangeIndex: 2356 entries, 0 to 2355\n",
      "Data columns (total 17 columns):\n",
      " #   Column                      Non-Null Count  Dtype  \n",
      "---  ------                      --------------  -----  \n",
      " 0   tweet_id                    2356 non-null   int64  \n",
      " 1   in_reply_to_status_id       78 non-null     float64\n",
      " 2   in_reply_to_user_id         78 non-null     float64\n",
      " 3   timestamp                   2356 non-null   object \n",
      " 4   source                      2356 non-null   object \n",
      " 5   text                        2356 non-null   object \n",
      " 6   retweeted_status_id         181 non-null    float64\n",
      " 7   retweeted_status_user_id    181 non-null    float64\n",
      " 8   retweeted_status_timestamp  181 non-null    object \n",
      " 9   expanded_urls               2297 non-null   object \n",
      " 10  rating_numerator            2356 non-null   int64  \n",
      " 11  rating_denominator          2356 non-null   int64  \n",
      " 12  name                        2356 non-null   object \n",
      " 13  doggo                       2356 non-null   object \n",
      " 14  floofer                     2356 non-null   object \n",
      " 15  pupper                      2356 non-null   object \n",
      " 16  puppo                       2356 non-null   object \n",
      "dtypes: float64(4), int64(3), object(10)\n",
      "memory usage: 313.0+ KB\n"
     ]
    }
   ],
   "source": [
    "TArchive.info()"
   ]
  },
  {
   "cell_type": "markdown",
   "id": "485b3b52",
   "metadata": {},
   "source": [
    "><li>From above we can conclude that there is so much missing data and aside from the data named none in some columns</li>\n",
    "><li>the \"tweet_id\" column dtype id int64 which is wrong for ids because you can't do algebric equations on them so it must be an object dtype</li>"
   ]
  },
  {
   "cell_type": "code",
   "execution_count": 897,
   "id": "a06d795e",
   "metadata": {},
   "outputs": [
    {
     "data": {
      "text/plain": [
       "0"
      ]
     },
     "execution_count": 897,
     "metadata": {},
     "output_type": "execute_result"
    }
   ],
   "source": [
    "TArchive.tweet_id.duplicated().sum()"
   ]
  },
  {
   "cell_type": "markdown",
   "id": "7f367280",
   "metadata": {},
   "source": [
    "> it seems there is no duplicated rows and we can make sure by that according that there is no duplicated tweet_ids"
   ]
  },
  {
   "cell_type": "code",
   "execution_count": 898,
   "id": "c80ee6d4",
   "metadata": {},
   "outputs": [
    {
     "name": "stdout",
     "output_type": "stream",
     "text": [
      "<class 'pandas.core.frame.DataFrame'>\n",
      "RangeIndex: 2354 entries, 0 to 2353\n",
      "Data columns (total 31 columns):\n",
      " #   Column                         Non-Null Count  Dtype              \n",
      "---  ------                         --------------  -----              \n",
      " 0   created_at                     2354 non-null   datetime64[ns, UTC]\n",
      " 1   id                             2354 non-null   int64              \n",
      " 2   id_str                         2354 non-null   int64              \n",
      " 3   full_text                      2354 non-null   object             \n",
      " 4   truncated                      2354 non-null   bool               \n",
      " 5   display_text_range             2354 non-null   object             \n",
      " 6   entities                       2354 non-null   object             \n",
      " 7   extended_entities              2073 non-null   object             \n",
      " 8   source                         2354 non-null   object             \n",
      " 9   in_reply_to_status_id          78 non-null     float64            \n",
      " 10  in_reply_to_status_id_str      78 non-null     float64            \n",
      " 11  in_reply_to_user_id            78 non-null     float64            \n",
      " 12  in_reply_to_user_id_str        78 non-null     float64            \n",
      " 13  in_reply_to_screen_name        78 non-null     object             \n",
      " 14  user                           2354 non-null   object             \n",
      " 15  geo                            0 non-null      float64            \n",
      " 16  coordinates                    0 non-null      float64            \n",
      " 17  place                          1 non-null      object             \n",
      " 18  contributors                   0 non-null      float64            \n",
      " 19  is_quote_status                2354 non-null   bool               \n",
      " 20  retweet_count                  2354 non-null   int64              \n",
      " 21  favorite_count                 2354 non-null   int64              \n",
      " 22  favorited                      2354 non-null   bool               \n",
      " 23  retweeted                      2354 non-null   bool               \n",
      " 24  possibly_sensitive             2211 non-null   float64            \n",
      " 25  possibly_sensitive_appealable  2211 non-null   float64            \n",
      " 26  lang                           2354 non-null   object             \n",
      " 27  retweeted_status               179 non-null    object             \n",
      " 28  quoted_status_id               29 non-null     float64            \n",
      " 29  quoted_status_id_str           29 non-null     float64            \n",
      " 30  quoted_status                  28 non-null     object             \n",
      "dtypes: bool(4), datetime64[ns, UTC](1), float64(11), int64(4), object(11)\n",
      "memory usage: 505.9+ KB\n"
     ]
    }
   ],
   "source": [
    "tweet_json.info()"
   ]
  },
  {
   "cell_type": "markdown",
   "id": "6dcc998d",
   "metadata": {},
   "source": [
    ">the id column seems to be duplicated so i will only keep one, otherwise this data isn't important to be cleaned as i will only gather the data i want from it which i will do next"
   ]
  },
  {
   "cell_type": "code",
   "execution_count": 899,
   "id": "e9276bcc",
   "metadata": {},
   "outputs": [
    {
     "name": "stdout",
     "output_type": "stream",
     "text": [
      "<class 'pandas.core.frame.DataFrame'>\n",
      "RangeIndex: 2075 entries, 0 to 2074\n",
      "Data columns (total 12 columns):\n",
      " #   Column    Non-Null Count  Dtype  \n",
      "---  ------    --------------  -----  \n",
      " 0   tweet_id  2075 non-null   int64  \n",
      " 1   jpg_url   2075 non-null   object \n",
      " 2   img_num   2075 non-null   int64  \n",
      " 3   p1        2075 non-null   object \n",
      " 4   p1_conf   2075 non-null   float64\n",
      " 5   p1_dog    2075 non-null   bool   \n",
      " 6   p2        2075 non-null   object \n",
      " 7   p2_conf   2075 non-null   float64\n",
      " 8   p2_dog    2075 non-null   bool   \n",
      " 9   p3        2075 non-null   object \n",
      " 10  p3_conf   2075 non-null   float64\n",
      " 11  p3_dog    2075 non-null   bool   \n",
      "dtypes: bool(3), float64(3), int64(2), object(4)\n",
      "memory usage: 152.1+ KB\n"
     ]
    }
   ],
   "source": [
    "image_pre.info()"
   ]
  },
  {
   "cell_type": "code",
   "execution_count": 900,
   "id": "45aaddb9",
   "metadata": {},
   "outputs": [
    {
     "data": {
      "text/html": [
       "<div>\n",
       "<style scoped>\n",
       "    .dataframe tbody tr th:only-of-type {\n",
       "        vertical-align: middle;\n",
       "    }\n",
       "\n",
       "    .dataframe tbody tr th {\n",
       "        vertical-align: top;\n",
       "    }\n",
       "\n",
       "    .dataframe thead th {\n",
       "        text-align: right;\n",
       "    }\n",
       "</style>\n",
       "<table border=\"1\" class=\"dataframe\">\n",
       "  <thead>\n",
       "    <tr style=\"text-align: right;\">\n",
       "      <th></th>\n",
       "      <th>tweet_id</th>\n",
       "      <th>jpg_url</th>\n",
       "      <th>img_num</th>\n",
       "      <th>p1</th>\n",
       "      <th>p1_conf</th>\n",
       "      <th>p1_dog</th>\n",
       "      <th>p2</th>\n",
       "      <th>p2_conf</th>\n",
       "      <th>p2_dog</th>\n",
       "      <th>p3</th>\n",
       "      <th>p3_conf</th>\n",
       "      <th>p3_dog</th>\n",
       "    </tr>\n",
       "  </thead>\n",
       "  <tbody>\n",
       "    <tr>\n",
       "      <th>1979</th>\n",
       "      <td>870804317367881728</td>\n",
       "      <td>https://pbs.twimg.com/media/DBW35ZsVoAEWZUU.jpg</td>\n",
       "      <td>1</td>\n",
       "      <td>home_theater</td>\n",
       "      <td>0.168290</td>\n",
       "      <td>False</td>\n",
       "      <td>sandbar</td>\n",
       "      <td>0.098040</td>\n",
       "      <td>False</td>\n",
       "      <td>television</td>\n",
       "      <td>0.079729</td>\n",
       "      <td>False</td>\n",
       "    </tr>\n",
       "    <tr>\n",
       "      <th>551</th>\n",
       "      <td>677557565589463040</td>\n",
       "      <td>https://pbs.twimg.com/media/CWcrAVQWEAA6QMp.jpg</td>\n",
       "      <td>1</td>\n",
       "      <td>seat_belt</td>\n",
       "      <td>0.277257</td>\n",
       "      <td>False</td>\n",
       "      <td>Shih-Tzu</td>\n",
       "      <td>0.249017</td>\n",
       "      <td>True</td>\n",
       "      <td>Pekinese</td>\n",
       "      <td>0.209213</td>\n",
       "      <td>True</td>\n",
       "    </tr>\n",
       "    <tr>\n",
       "      <th>954</th>\n",
       "      <td>705223444686888960</td>\n",
       "      <td>https://pbs.twimg.com/media/Ccl0-HVVAAAf8aK.jpg</td>\n",
       "      <td>1</td>\n",
       "      <td>Egyptian_cat</td>\n",
       "      <td>0.090508</td>\n",
       "      <td>False</td>\n",
       "      <td>Chesapeake_Bay_retriever</td>\n",
       "      <td>0.077373</td>\n",
       "      <td>True</td>\n",
       "      <td>Mexican_hairless</td>\n",
       "      <td>0.049471</td>\n",
       "      <td>True</td>\n",
       "    </tr>\n",
       "  </tbody>\n",
       "</table>\n",
       "</div>"
      ],
      "text/plain": [
       "                tweet_id                                          jpg_url  \\\n",
       "1979  870804317367881728  https://pbs.twimg.com/media/DBW35ZsVoAEWZUU.jpg   \n",
       "551   677557565589463040  https://pbs.twimg.com/media/CWcrAVQWEAA6QMp.jpg   \n",
       "954   705223444686888960  https://pbs.twimg.com/media/Ccl0-HVVAAAf8aK.jpg   \n",
       "\n",
       "      img_num            p1   p1_conf  p1_dog                        p2  \\\n",
       "1979        1  home_theater  0.168290   False                   sandbar   \n",
       "551         1     seat_belt  0.277257   False                  Shih-Tzu   \n",
       "954         1  Egyptian_cat  0.090508   False  Chesapeake_Bay_retriever   \n",
       "\n",
       "       p2_conf  p2_dog                p3   p3_conf  p3_dog  \n",
       "1979  0.098040   False        television  0.079729   False  \n",
       "551   0.249017    True          Pekinese  0.209213    True  \n",
       "954   0.077373    True  Mexican_hairless  0.049471    True  "
      ]
     },
     "execution_count": 900,
     "metadata": {},
     "output_type": "execute_result"
    }
   ],
   "source": [
    "image_pre.sample(3)"
   ]
  },
  {
   "cell_type": "markdown",
   "id": "78747a82",
   "metadata": {},
   "source": [
    "> this data is already cleaned"
   ]
  },
  {
   "cell_type": "markdown",
   "id": "8e7b7e6f",
   "metadata": {},
   "source": [
    "## Quality Issues\n",
    "1. timestamp column contains +0000 at their ends\n",
    "2. The rating denominator is not always 10 as it should be \n",
    "3. the rating numerator have outliers as the range must be from 10 to 20 but it appears there were numbers above 20 and others lower than 10\n",
    "4. some dog names contains only letters such as \"a\" or \"O\" which can't be a dog name\n",
    "5. The source, in_reply_to_status_id, and in_reply_to_user_id columns doesn't contain any important information\n",
    "6. tweet_id dtype is integer which is wrong it must be object\n",
    "7. retweets are included in the database and they must be removed \n",
    "8.  we can remove all three columns related to the retweets as we won't use them after we distinguish the retweeted rows and delete them.\n",
    "9. There is some missing data in some columns"
   ]
  },
  {
   "cell_type": "markdown",
   "id": "32d305ec",
   "metadata": {},
   "source": [
    "## Tidiness Issues\n",
    "1. The columns named \"doggo\", \"floofer\", \"pupper\", and \"puppo\" can all be joined into 1 column \n",
    "2. The rating_denominator and rating_numerator column can both be joined into 1 column\n",
    "3. the column time_stamp can be split into 2 columns to avoid confusion\n",
    "4. In dog name's column missing data is labled by \"None\" which is wrong as the computer reads it as a data and not nulls\n",
    "5. Tweets beyond  August 1st, 2017 are not needed as demanded from the project because the algorithm won't work on them\n",
    "6. some columns i want from tweet_json file into the tweet archive file so i can analyaze on only 1 file"
   ]
  },
  {
   "cell_type": "markdown",
   "id": "dee521e8",
   "metadata": {},
   "source": [
    "## Cleaning Data:"
   ]
  },
  {
   "cell_type": "markdown",
   "id": "b024ac46",
   "metadata": {},
   "source": [
    "### Data Copying:"
   ]
  },
  {
   "cell_type": "code",
   "execution_count": 901,
   "id": "8ab4bd21",
   "metadata": {},
   "outputs": [],
   "source": [
    "TArchive_copy = TArchive.copy()\n",
    "Image_pre_copy = Image_pre.copy()\n",
    "tweet_json_copy = tweet_json.copy()"
   ]
  },
  {
   "cell_type": "markdown",
   "id": "3335f7f3",
   "metadata": {},
   "source": [
    "### Issue 1: timestamp column contain +0000 in there ends"
   ]
  },
  {
   "cell_type": "markdown",
   "id": "9a6d30ee",
   "metadata": {},
   "source": [
    "#### Define: in the last of each timestamp element there is a stange form  \"+0000\" which is not neccassary so i will remove it"
   ]
  },
  {
   "cell_type": "markdown",
   "id": "d1458593",
   "metadata": {},
   "source": [
    "#### Code"
   ]
  },
  {
   "cell_type": "code",
   "execution_count": 902,
   "id": "c06bb8ab",
   "metadata": {},
   "outputs": [],
   "source": [
    "TArchive_copy.timestamp = TArchive_copy.timestamp.str[:-6]"
   ]
  },
  {
   "cell_type": "markdown",
   "id": "8ac4d25d",
   "metadata": {},
   "source": [
    "#### Test"
   ]
  },
  {
   "cell_type": "code",
   "execution_count": 903,
   "id": "a87e36f8",
   "metadata": {},
   "outputs": [
    {
     "data": {
      "text/html": [
       "<div>\n",
       "<style scoped>\n",
       "    .dataframe tbody tr th:only-of-type {\n",
       "        vertical-align: middle;\n",
       "    }\n",
       "\n",
       "    .dataframe tbody tr th {\n",
       "        vertical-align: top;\n",
       "    }\n",
       "\n",
       "    .dataframe thead th {\n",
       "        text-align: right;\n",
       "    }\n",
       "</style>\n",
       "<table border=\"1\" class=\"dataframe\">\n",
       "  <thead>\n",
       "    <tr style=\"text-align: right;\">\n",
       "      <th></th>\n",
       "      <th>timestamp</th>\n",
       "    </tr>\n",
       "  </thead>\n",
       "  <tbody>\n",
       "    <tr>\n",
       "      <th>1947</th>\n",
       "      <td>2015-12-07 03:07:12</td>\n",
       "    </tr>\n",
       "    <tr>\n",
       "      <th>910</th>\n",
       "      <td>2016-07-25 16:21:11</td>\n",
       "    </tr>\n",
       "    <tr>\n",
       "      <th>949</th>\n",
       "      <td>2016-07-11 01:11:51</td>\n",
       "    </tr>\n",
       "  </tbody>\n",
       "</table>\n",
       "</div>"
      ],
      "text/plain": [
       "                timestamp\n",
       "1947  2015-12-07 03:07:12\n",
       "910   2016-07-25 16:21:11\n",
       "949   2016-07-11 01:11:51"
      ]
     },
     "execution_count": 903,
     "metadata": {},
     "output_type": "execute_result"
    }
   ],
   "source": [
    "TArchive_copy[[\"timestamp\"]].sample(3)"
   ]
  },
  {
   "cell_type": "markdown",
   "id": "4ae18a11",
   "metadata": {},
   "source": [
    "### Issue 2: The rating denominator is not always 10 as it should be"
   ]
  },
  {
   "cell_type": "markdown",
   "id": "a2ace6fc",
   "metadata": {},
   "source": [
    "#### Define: the rating denominator should always be 10 otherwise it's an invalidation to the unique rating system"
   ]
  },
  {
   "cell_type": "markdown",
   "id": "5c16d8d1",
   "metadata": {},
   "source": [
    "#### Code"
   ]
  },
  {
   "cell_type": "code",
   "execution_count": 904,
   "id": "8dfe4b55",
   "metadata": {},
   "outputs": [],
   "source": [
    "TArchive_copy.rating_denominator = 10"
   ]
  },
  {
   "cell_type": "markdown",
   "id": "913dcb31",
   "metadata": {},
   "source": [
    "#### Test"
   ]
  },
  {
   "cell_type": "code",
   "execution_count": 905,
   "id": "c2908481",
   "metadata": {},
   "outputs": [
    {
     "data": {
      "text/html": [
       "<div>\n",
       "<style scoped>\n",
       "    .dataframe tbody tr th:only-of-type {\n",
       "        vertical-align: middle;\n",
       "    }\n",
       "\n",
       "    .dataframe tbody tr th {\n",
       "        vertical-align: top;\n",
       "    }\n",
       "\n",
       "    .dataframe thead th {\n",
       "        text-align: right;\n",
       "    }\n",
       "</style>\n",
       "<table border=\"1\" class=\"dataframe\">\n",
       "  <thead>\n",
       "    <tr style=\"text-align: right;\">\n",
       "      <th></th>\n",
       "      <th>tweet_id</th>\n",
       "      <th>in_reply_to_status_id</th>\n",
       "      <th>in_reply_to_user_id</th>\n",
       "      <th>timestamp</th>\n",
       "      <th>source</th>\n",
       "      <th>text</th>\n",
       "      <th>retweeted_status_id</th>\n",
       "      <th>retweeted_status_user_id</th>\n",
       "      <th>retweeted_status_timestamp</th>\n",
       "      <th>expanded_urls</th>\n",
       "      <th>rating_numerator</th>\n",
       "      <th>rating_denominator</th>\n",
       "      <th>name</th>\n",
       "      <th>doggo</th>\n",
       "      <th>floofer</th>\n",
       "      <th>pupper</th>\n",
       "      <th>puppo</th>\n",
       "    </tr>\n",
       "  </thead>\n",
       "  <tbody>\n",
       "  </tbody>\n",
       "</table>\n",
       "</div>"
      ],
      "text/plain": [
       "Empty DataFrame\n",
       "Columns: [tweet_id, in_reply_to_status_id, in_reply_to_user_id, timestamp, source, text, retweeted_status_id, retweeted_status_user_id, retweeted_status_timestamp, expanded_urls, rating_numerator, rating_denominator, name, doggo, floofer, pupper, puppo]\n",
       "Index: []"
      ]
     },
     "execution_count": 905,
     "metadata": {},
     "output_type": "execute_result"
    }
   ],
   "source": [
    "TArchive_copy[TArchive_copy.rating_denominator != 10]"
   ]
  },
  {
   "cell_type": "code",
   "execution_count": 906,
   "id": "1023ef31",
   "metadata": {},
   "outputs": [
    {
     "data": {
      "text/html": [
       "<div>\n",
       "<style scoped>\n",
       "    .dataframe tbody tr th:only-of-type {\n",
       "        vertical-align: middle;\n",
       "    }\n",
       "\n",
       "    .dataframe tbody tr th {\n",
       "        vertical-align: top;\n",
       "    }\n",
       "\n",
       "    .dataframe thead th {\n",
       "        text-align: right;\n",
       "    }\n",
       "</style>\n",
       "<table border=\"1\" class=\"dataframe\">\n",
       "  <thead>\n",
       "    <tr style=\"text-align: right;\">\n",
       "      <th></th>\n",
       "      <th>rating_denominator</th>\n",
       "    </tr>\n",
       "  </thead>\n",
       "  <tbody>\n",
       "    <tr>\n",
       "      <th>1937</th>\n",
       "      <td>10</td>\n",
       "    </tr>\n",
       "  </tbody>\n",
       "</table>\n",
       "</div>"
      ],
      "text/plain": [
       "      rating_denominator\n",
       "1937                  10"
      ]
     },
     "execution_count": 906,
     "metadata": {},
     "output_type": "execute_result"
    }
   ],
   "source": [
    "TArchive_copy[[\"rating_denominator\"]].sample()"
   ]
  },
  {
   "cell_type": "markdown",
   "id": "fb7ae543",
   "metadata": {},
   "source": [
    "### Issue 3: The rating numerator outliers"
   ]
  },
  {
   "cell_type": "markdown",
   "id": "0fc045f7",
   "metadata": {},
   "source": [
    "#### Define: at first sight i though that these number were wrong numbers but it appeared that these ratings are normal and were written in the Tweet itself i tried to solve this problem for so much time but in the end i discovered it's not a problem from the beginning."
   ]
  },
  {
   "cell_type": "markdown",
   "id": "896be8a8",
   "metadata": {},
   "source": [
    "#### Code"
   ]
  },
  {
   "cell_type": "code",
   "execution_count": 907,
   "id": "142e7f20",
   "metadata": {},
   "outputs": [
    {
     "data": {
      "text/html": [
       "<div>\n",
       "<style scoped>\n",
       "    .dataframe tbody tr th:only-of-type {\n",
       "        vertical-align: middle;\n",
       "    }\n",
       "\n",
       "    .dataframe tbody tr th {\n",
       "        vertical-align: top;\n",
       "    }\n",
       "\n",
       "    .dataframe thead th {\n",
       "        text-align: right;\n",
       "    }\n",
       "</style>\n",
       "<table border=\"1\" class=\"dataframe\">\n",
       "  <thead>\n",
       "    <tr style=\"text-align: right;\">\n",
       "      <th></th>\n",
       "      <th>text</th>\n",
       "      <th>rating_numerator</th>\n",
       "    </tr>\n",
       "  </thead>\n",
       "  <tbody>\n",
       "    <tr>\n",
       "      <th>188</th>\n",
       "      <td>@dhmontgomery We also gave snoop dogg a 420/10...</td>\n",
       "      <td>420</td>\n",
       "    </tr>\n",
       "    <tr>\n",
       "      <th>290</th>\n",
       "      <td>@markhoppus 182/10</td>\n",
       "      <td>182</td>\n",
       "    </tr>\n",
       "    <tr>\n",
       "      <th>1662</th>\n",
       "      <td>This is Darrel. He just robbed a 7/11 and is i...</td>\n",
       "      <td>7</td>\n",
       "    </tr>\n",
       "  </tbody>\n",
       "</table>\n",
       "</div>"
      ],
      "text/plain": [
       "                                                   text  rating_numerator\n",
       "188   @dhmontgomery We also gave snoop dogg a 420/10...               420\n",
       "290                                  @markhoppus 182/10               182\n",
       "1662  This is Darrel. He just robbed a 7/11 and is i...                 7"
      ]
     },
     "execution_count": 907,
     "metadata": {},
     "output_type": "execute_result"
    }
   ],
   "source": [
    "TArchive.iloc[[188, 290, 1662]][[\"text\", \"rating_numerator\"]]"
   ]
  },
  {
   "cell_type": "markdown",
   "id": "25033442",
   "metadata": {},
   "source": [
    "> you can see from the above example the rating numerator is the same as the written one in the tweet so it's not an issue"
   ]
  },
  {
   "cell_type": "markdown",
   "id": "4f3eba87",
   "metadata": {},
   "source": [
    "### Issue 4: Wrong dog names"
   ]
  },
  {
   "cell_type": "markdown",
   "id": "b81ad532",
   "metadata": {},
   "source": [
    "#### Define: it seems that i can't gather the names of these dogs as they are not either avalaible in the tweet or any other table so i will only turn them to nulls"
   ]
  },
  {
   "cell_type": "markdown",
   "id": "e724132f",
   "metadata": {},
   "source": [
    "#### Code"
   ]
  },
  {
   "cell_type": "code",
   "execution_count": 908,
   "id": "327a4dd4",
   "metadata": {},
   "outputs": [],
   "source": [
    "TArchive_copy[\"name\"].replace(to_replace= \"O\", value= np.nan, inplace= True)\n",
    "TArchive_copy[\"name\"].replace(to_replace= \"a\", value= np.nan, inplace= True)"
   ]
  },
  {
   "cell_type": "markdown",
   "id": "b09cf14e",
   "metadata": {},
   "source": [
    "#### Test"
   ]
  },
  {
   "cell_type": "code",
   "execution_count": 909,
   "id": "80848495",
   "metadata": {},
   "outputs": [
    {
     "data": {
      "text/html": [
       "<div>\n",
       "<style scoped>\n",
       "    .dataframe tbody tr th:only-of-type {\n",
       "        vertical-align: middle;\n",
       "    }\n",
       "\n",
       "    .dataframe tbody tr th {\n",
       "        vertical-align: top;\n",
       "    }\n",
       "\n",
       "    .dataframe thead th {\n",
       "        text-align: right;\n",
       "    }\n",
       "</style>\n",
       "<table border=\"1\" class=\"dataframe\">\n",
       "  <thead>\n",
       "    <tr style=\"text-align: right;\">\n",
       "      <th></th>\n",
       "      <th>tweet_id</th>\n",
       "      <th>in_reply_to_status_id</th>\n",
       "      <th>in_reply_to_user_id</th>\n",
       "      <th>timestamp</th>\n",
       "      <th>source</th>\n",
       "      <th>text</th>\n",
       "      <th>retweeted_status_id</th>\n",
       "      <th>retweeted_status_user_id</th>\n",
       "      <th>retweeted_status_timestamp</th>\n",
       "      <th>expanded_urls</th>\n",
       "      <th>rating_numerator</th>\n",
       "      <th>rating_denominator</th>\n",
       "      <th>name</th>\n",
       "      <th>doggo</th>\n",
       "      <th>floofer</th>\n",
       "      <th>pupper</th>\n",
       "      <th>puppo</th>\n",
       "    </tr>\n",
       "  </thead>\n",
       "  <tbody>\n",
       "  </tbody>\n",
       "</table>\n",
       "</div>"
      ],
      "text/plain": [
       "Empty DataFrame\n",
       "Columns: [tweet_id, in_reply_to_status_id, in_reply_to_user_id, timestamp, source, text, retweeted_status_id, retweeted_status_user_id, retweeted_status_timestamp, expanded_urls, rating_numerator, rating_denominator, name, doggo, floofer, pupper, puppo]\n",
       "Index: []"
      ]
     },
     "execution_count": 909,
     "metadata": {},
     "output_type": "execute_result"
    }
   ],
   "source": [
    "TArchive_copy[TArchive_copy.name.str.len() == 1].head()"
   ]
  },
  {
   "cell_type": "markdown",
   "id": "c4f1ad9d",
   "metadata": {},
   "source": [
    "### Issue 5: Columns deletion"
   ]
  },
  {
   "cell_type": "markdown",
   "id": "0ff2f283",
   "metadata": {},
   "source": [
    "#### Define: The source, in_reply_to_status_id, and in_reply_to_user_id columns doesn't contain any important information"
   ]
  },
  {
   "cell_type": "markdown",
   "id": "725a2076",
   "metadata": {},
   "source": [
    "#### Code"
   ]
  },
  {
   "cell_type": "code",
   "execution_count": 910,
   "id": "24ce084c",
   "metadata": {},
   "outputs": [],
   "source": [
    "def delete_columns(column_name):\n",
    "    del TArchive_copy[column_name]\n",
    "    \n",
    "try:\n",
    "    delete_columns('source')\n",
    "    delete_columns('in_reply_to_status_id')\n",
    "    delete_columns('in_reply_to_user_id')\n",
    "except:\n",
    "    print(\"already deleted\")"
   ]
  },
  {
   "cell_type": "code",
   "execution_count": 911,
   "id": "5ed05da9",
   "metadata": {},
   "outputs": [
    {
     "name": "stdout",
     "output_type": "stream",
     "text": [
      "tweet_id\n",
      "timestamp\n",
      "text\n",
      "retweeted_status_id\n",
      "retweeted_status_user_id\n",
      "retweeted_status_timestamp\n",
      "expanded_urls\n",
      "rating_numerator\n",
      "rating_denominator\n",
      "name\n",
      "doggo\n",
      "floofer\n",
      "pupper\n",
      "puppo\n"
     ]
    }
   ],
   "source": [
    "for col in TArchive_copy.columns:\n",
    "    print(col)"
   ]
  },
  {
   "cell_type": "markdown",
   "id": "8c64aa1a",
   "metadata": {},
   "source": [
    "#### Test"
   ]
  },
  {
   "cell_type": "markdown",
   "id": "e504d08b",
   "metadata": {},
   "source": [
    "### Issue 6: tweet_id dtype"
   ]
  },
  {
   "cell_type": "markdown",
   "id": "5b788d47",
   "metadata": {},
   "source": [
    "#### Define: the \"tweet_id\" column dtype id int64 which is wrong for ids because you can't do algebric equations on them so it must be an object dtype"
   ]
  },
  {
   "cell_type": "markdown",
   "id": "9c3cb27d",
   "metadata": {},
   "source": [
    "#### Code"
   ]
  },
  {
   "cell_type": "code",
   "execution_count": 912,
   "id": "4c963292",
   "metadata": {},
   "outputs": [],
   "source": [
    "TArchive_copy.tweet_id = TArchive_copy.tweet_id.astype('object')"
   ]
  },
  {
   "cell_type": "markdown",
   "id": "1556d9db",
   "metadata": {},
   "source": [
    "#### Test"
   ]
  },
  {
   "cell_type": "code",
   "execution_count": 913,
   "id": "94a91690",
   "metadata": {},
   "outputs": [
    {
     "data": {
      "text/plain": [
       "dtype('O')"
      ]
     },
     "execution_count": 913,
     "metadata": {},
     "output_type": "execute_result"
    }
   ],
   "source": [
    "TArchive_copy.tweet_id.dtype"
   ]
  },
  {
   "cell_type": "markdown",
   "id": "c54e6eb0",
   "metadata": {},
   "source": [
    "### Issue 7: Remove Retweets"
   ]
  },
  {
   "cell_type": "markdown",
   "id": "a14d9322",
   "metadata": {},
   "source": [
    "#### Define: i detected from tweeter that if retweeted_status_id column is not a null for a certain tweet that means that it isn't a tweet but a retweet so i removed all the rows that have values for this column as they are retweets not tweets"
   ]
  },
  {
   "cell_type": "markdown",
   "id": "12400fe1",
   "metadata": {},
   "source": [
    "#### Code"
   ]
  },
  {
   "cell_type": "code",
   "execution_count": 914,
   "id": "d2b664ac",
   "metadata": {},
   "outputs": [],
   "source": [
    "try:\n",
    "    TArchive_copy = TArchive_copy[TArchive_copy.retweeted_status_id.isnull()]\n",
    "except:\n",
    "    print(\"already done\")"
   ]
  },
  {
   "cell_type": "markdown",
   "id": "c5a75e0a",
   "metadata": {},
   "source": [
    "#### Test"
   ]
  },
  {
   "cell_type": "code",
   "execution_count": 915,
   "id": "7fcc7602",
   "metadata": {},
   "outputs": [
    {
     "name": "stdout",
     "output_type": "stream",
     "text": [
      "<class 'pandas.core.frame.DataFrame'>\n",
      "Int64Index: 2175 entries, 0 to 2355\n",
      "Data columns (total 14 columns):\n",
      " #   Column                      Non-Null Count  Dtype  \n",
      "---  ------                      --------------  -----  \n",
      " 0   tweet_id                    2175 non-null   object \n",
      " 1   timestamp                   2175 non-null   object \n",
      " 2   text                        2175 non-null   object \n",
      " 3   retweeted_status_id         0 non-null      float64\n",
      " 4   retweeted_status_user_id    0 non-null      float64\n",
      " 5   retweeted_status_timestamp  0 non-null      object \n",
      " 6   expanded_urls               2117 non-null   object \n",
      " 7   rating_numerator            2175 non-null   int64  \n",
      " 8   rating_denominator          2175 non-null   int64  \n",
      " 9   name                        2119 non-null   object \n",
      " 10  doggo                       2175 non-null   object \n",
      " 11  floofer                     2175 non-null   object \n",
      " 12  pupper                      2175 non-null   object \n",
      " 13  puppo                       2175 non-null   object \n",
      "dtypes: float64(2), int64(2), object(10)\n",
      "memory usage: 254.9+ KB\n"
     ]
    }
   ],
   "source": [
    "TArchive_copy.info()"
   ]
  },
  {
   "cell_type": "markdown",
   "id": "fa7f5892",
   "metadata": {},
   "source": [
    "### Issue 8: Remove all three columns related to retweets"
   ]
  },
  {
   "cell_type": "markdown",
   "id": "4836aa39",
   "metadata": {},
   "source": [
    "#### Define: after i deleted the retweets by using these columns there is no more need for them so i deleted them"
   ]
  },
  {
   "cell_type": "markdown",
   "id": "e9376e59",
   "metadata": {},
   "source": [
    "#### Code"
   ]
  },
  {
   "cell_type": "code",
   "execution_count": 916,
   "id": "8bc7d3b5",
   "metadata": {},
   "outputs": [],
   "source": [
    "try:\n",
    "    delete_columns('retweeted_status_id')\n",
    "    delete_columns('retweeted_status_user_id')\n",
    "    delete_columns('retweeted_status_timestamp')\n",
    "except:\n",
    "    print(\"already deleted\")"
   ]
  },
  {
   "cell_type": "markdown",
   "id": "4efd8c8c",
   "metadata": {},
   "source": [
    "#### Test"
   ]
  },
  {
   "cell_type": "code",
   "execution_count": 917,
   "id": "6f32d03b",
   "metadata": {},
   "outputs": [
    {
     "name": "stdout",
     "output_type": "stream",
     "text": [
      "<class 'pandas.core.frame.DataFrame'>\n",
      "Int64Index: 2175 entries, 0 to 2355\n",
      "Data columns (total 11 columns):\n",
      " #   Column              Non-Null Count  Dtype \n",
      "---  ------              --------------  ----- \n",
      " 0   tweet_id            2175 non-null   object\n",
      " 1   timestamp           2175 non-null   object\n",
      " 2   text                2175 non-null   object\n",
      " 3   expanded_urls       2117 non-null   object\n",
      " 4   rating_numerator    2175 non-null   int64 \n",
      " 5   rating_denominator  2175 non-null   int64 \n",
      " 6   name                2119 non-null   object\n",
      " 7   doggo               2175 non-null   object\n",
      " 8   floofer             2175 non-null   object\n",
      " 9   pupper              2175 non-null   object\n",
      " 10  puppo               2175 non-null   object\n",
      "dtypes: int64(2), object(9)\n",
      "memory usage: 203.9+ KB\n"
     ]
    }
   ],
   "source": [
    "TArchive_copy.info()"
   ]
  },
  {
   "cell_type": "markdown",
   "id": "173b7a33",
   "metadata": {},
   "source": [
    "### Issue 9:  Missing data labled \"None\""
   ]
  },
  {
   "cell_type": "markdown",
   "id": "73bd06cb",
   "metadata": {},
   "source": [
    "#### Define: I though if we replaced the None values in the names with Nan it would be better to clean it to avoid the confusion because the computer sees them as non null values and also the data in the dog types columns i raplced it with empty space so i can merge them as in the next step and afterwords i will replace the empty with null value"
   ]
  },
  {
   "cell_type": "markdown",
   "id": "d8e2da75",
   "metadata": {},
   "source": [
    "#### Code"
   ]
  },
  {
   "cell_type": "code",
   "execution_count": 918,
   "id": "01c360fd",
   "metadata": {},
   "outputs": [],
   "source": [
    "def replace_None(column_name, replace, value):\n",
    "    TArchive_copy[column_name].replace(to_replace= replace, value= value, inplace= True)\n",
    "    \n",
    "try:\n",
    "    replace_None(\"name\", \"None\", np.nan)\n",
    "    replace_None(\"puppo\", \"None\", \"\")\n",
    "    replace_None(\"pupper\", \"None\", \"\")\n",
    "    replace_None(\"floofer\", \"None\", \"\")\n",
    "    replace_None(\"doggo\", \"None\", \"\")\n",
    "except:\n",
    "    print(\"already done\")"
   ]
  },
  {
   "cell_type": "markdown",
   "id": "ba52b6f4",
   "metadata": {},
   "source": [
    "#### Test"
   ]
  },
  {
   "cell_type": "code",
   "execution_count": 919,
   "id": "a7d0aa23",
   "metadata": {},
   "outputs": [
    {
     "data": {
      "text/html": [
       "<div>\n",
       "<style scoped>\n",
       "    .dataframe tbody tr th:only-of-type {\n",
       "        vertical-align: middle;\n",
       "    }\n",
       "\n",
       "    .dataframe tbody tr th {\n",
       "        vertical-align: top;\n",
       "    }\n",
       "\n",
       "    .dataframe thead th {\n",
       "        text-align: right;\n",
       "    }\n",
       "</style>\n",
       "<table border=\"1\" class=\"dataframe\">\n",
       "  <thead>\n",
       "    <tr style=\"text-align: right;\">\n",
       "      <th></th>\n",
       "      <th>tweet_id</th>\n",
       "      <th>timestamp</th>\n",
       "      <th>text</th>\n",
       "      <th>expanded_urls</th>\n",
       "      <th>rating_numerator</th>\n",
       "      <th>rating_denominator</th>\n",
       "      <th>name</th>\n",
       "      <th>doggo</th>\n",
       "      <th>floofer</th>\n",
       "      <th>pupper</th>\n",
       "      <th>puppo</th>\n",
       "    </tr>\n",
       "  </thead>\n",
       "  <tbody>\n",
       "  </tbody>\n",
       "</table>\n",
       "</div>"
      ],
      "text/plain": [
       "Empty DataFrame\n",
       "Columns: [tweet_id, timestamp, text, expanded_urls, rating_numerator, rating_denominator, name, doggo, floofer, pupper, puppo]\n",
       "Index: []"
      ]
     },
     "execution_count": 919,
     "metadata": {},
     "output_type": "execute_result"
    }
   ],
   "source": [
    "TArchive_copy[TArchive_copy.name == \"None\"].head()"
   ]
  },
  {
   "cell_type": "code",
   "execution_count": 920,
   "id": "54cfc72e",
   "metadata": {},
   "outputs": [],
   "source": [
    "try:\n",
    "    TArchive_copy[[\"doggo\", \"floofer\", \"pupper\", \"puppo\"]].sample(5)\n",
    "except:\n",
    "    print(\"columns deleted\")"
   ]
  },
  {
   "cell_type": "markdown",
   "id": "4295958e",
   "metadata": {},
   "source": [
    "### Issue 10: joining 4 Columns to a column named \"dog_type\""
   ]
  },
  {
   "cell_type": "markdown",
   "id": "2b8acdd4",
   "metadata": {},
   "source": [
    "#### Define: i will join these 4 columns into 1 column which can be named dog_type which may appear to be better and this is a Tidiness issue "
   ]
  },
  {
   "cell_type": "markdown",
   "id": "5db4875a",
   "metadata": {},
   "source": [
    "#### Code"
   ]
  },
  {
   "cell_type": "code",
   "execution_count": 921,
   "id": "7103e3c0",
   "metadata": {},
   "outputs": [],
   "source": [
    "try:\n",
    "    TArchive_copy[\"dog_type\"] = TArchive_copy['doggo'] +\"\"+ TArchive_copy[\"floofer\"] +\"\"+ TArchive_copy[\"pupper\"] +\"\"+ TArchive_copy[\"puppo\"]\n",
    "    delete_columns('doggo')\n",
    "    delete_columns('floofer')\n",
    "    delete_columns('pupper')\n",
    "    delete_columns('puppo')\n",
    "except:\n",
    "    print(\"already done\")\n",
    "    \n",
    "replace_None(\"dog_type\", \"\", np.nan)"
   ]
  },
  {
   "cell_type": "markdown",
   "id": "deab76ad",
   "metadata": {},
   "source": [
    "#### Test"
   ]
  },
  {
   "cell_type": "code",
   "execution_count": 922,
   "id": "664bef97",
   "metadata": {},
   "outputs": [
    {
     "data": {
      "text/html": [
       "<div>\n",
       "<style scoped>\n",
       "    .dataframe tbody tr th:only-of-type {\n",
       "        vertical-align: middle;\n",
       "    }\n",
       "\n",
       "    .dataframe tbody tr th {\n",
       "        vertical-align: top;\n",
       "    }\n",
       "\n",
       "    .dataframe thead th {\n",
       "        text-align: right;\n",
       "    }\n",
       "</style>\n",
       "<table border=\"1\" class=\"dataframe\">\n",
       "  <thead>\n",
       "    <tr style=\"text-align: right;\">\n",
       "      <th></th>\n",
       "      <th>tweet_id</th>\n",
       "      <th>timestamp</th>\n",
       "      <th>text</th>\n",
       "      <th>expanded_urls</th>\n",
       "      <th>rating_numerator</th>\n",
       "      <th>rating_denominator</th>\n",
       "      <th>name</th>\n",
       "      <th>dog_type</th>\n",
       "    </tr>\n",
       "  </thead>\n",
       "  <tbody>\n",
       "    <tr>\n",
       "      <th>2239</th>\n",
       "      <td>667937095915278337</td>\n",
       "      <td>2015-11-21 05:26:27</td>\n",
       "      <td>This dog resembles a baked potato. Bed looks u...</td>\n",
       "      <td>https://twitter.com/dog_rates/status/667937095...</td>\n",
       "      <td>3</td>\n",
       "      <td>10</td>\n",
       "      <td>NaN</td>\n",
       "      <td>NaN</td>\n",
       "    </tr>\n",
       "    <tr>\n",
       "      <th>449</th>\n",
       "      <td>819004803107983360</td>\n",
       "      <td>2017-01-11 02:15:36</td>\n",
       "      <td>This is Bo. He was a very good First Doggo. 14...</td>\n",
       "      <td>https://twitter.com/dog_rates/status/819004803...</td>\n",
       "      <td>14</td>\n",
       "      <td>10</td>\n",
       "      <td>Bo</td>\n",
       "      <td>doggo</td>\n",
       "    </tr>\n",
       "  </tbody>\n",
       "</table>\n",
       "</div>"
      ],
      "text/plain": [
       "                tweet_id            timestamp  \\\n",
       "2239  667937095915278337  2015-11-21 05:26:27   \n",
       "449   819004803107983360  2017-01-11 02:15:36   \n",
       "\n",
       "                                                   text  \\\n",
       "2239  This dog resembles a baked potato. Bed looks u...   \n",
       "449   This is Bo. He was a very good First Doggo. 14...   \n",
       "\n",
       "                                          expanded_urls  rating_numerator  \\\n",
       "2239  https://twitter.com/dog_rates/status/667937095...                 3   \n",
       "449   https://twitter.com/dog_rates/status/819004803...                14   \n",
       "\n",
       "      rating_denominator name dog_type  \n",
       "2239                  10  NaN      NaN  \n",
       "449                   10   Bo    doggo  "
      ]
     },
     "execution_count": 922,
     "metadata": {},
     "output_type": "execute_result"
    }
   ],
   "source": [
    "TArchive_copy.sample(2)"
   ]
  },
  {
   "cell_type": "markdown",
   "id": "ae1dad40",
   "metadata": {},
   "source": [
    "### Issue 11: joining the denominator and numerator columns into one"
   ]
  },
  {
   "cell_type": "markdown",
   "id": "861292bb",
   "metadata": {},
   "source": [
    "#### Define: the same issue as the above the 2 ratings columns can be joined into 1 column named Dog Rate"
   ]
  },
  {
   "cell_type": "markdown",
   "id": "5c662bb5",
   "metadata": {},
   "source": [
    "#### Code"
   ]
  },
  {
   "cell_type": "code",
   "execution_count": 923,
   "id": "c4601af9",
   "metadata": {},
   "outputs": [],
   "source": [
    "try:\n",
    "    TArchive_copy[\"Rating\"] = TArchive_copy['rating_numerator'].astype(str) +\"/\"+ TArchive_copy[\"rating_denominator\"].astype(str)\n",
    "    delete_columns('rating_numerator')\n",
    "    delete_columns('rating_denominator')\n",
    "except:\n",
    "    print(\"already done\")"
   ]
  },
  {
   "cell_type": "markdown",
   "id": "90e9b5d2",
   "metadata": {},
   "source": [
    "#### Test"
   ]
  },
  {
   "cell_type": "code",
   "execution_count": 924,
   "id": "0f3d5f7a",
   "metadata": {},
   "outputs": [
    {
     "data": {
      "text/html": [
       "<div>\n",
       "<style scoped>\n",
       "    .dataframe tbody tr th:only-of-type {\n",
       "        vertical-align: middle;\n",
       "    }\n",
       "\n",
       "    .dataframe tbody tr th {\n",
       "        vertical-align: top;\n",
       "    }\n",
       "\n",
       "    .dataframe thead th {\n",
       "        text-align: right;\n",
       "    }\n",
       "</style>\n",
       "<table border=\"1\" class=\"dataframe\">\n",
       "  <thead>\n",
       "    <tr style=\"text-align: right;\">\n",
       "      <th></th>\n",
       "      <th>tweet_id</th>\n",
       "      <th>timestamp</th>\n",
       "      <th>text</th>\n",
       "      <th>expanded_urls</th>\n",
       "      <th>name</th>\n",
       "      <th>dog_type</th>\n",
       "      <th>Rating</th>\n",
       "    </tr>\n",
       "  </thead>\n",
       "  <tbody>\n",
       "    <tr>\n",
       "      <th>463</th>\n",
       "      <td>817423860136083457</td>\n",
       "      <td>2017-01-06 17:33:29</td>\n",
       "      <td>This is Ken. His cheeks are magic. 13/10 (IG: ...</td>\n",
       "      <td>https://twitter.com/dog_rates/status/817423860...</td>\n",
       "      <td>Ken</td>\n",
       "      <td>NaN</td>\n",
       "      <td>13/10</td>\n",
       "    </tr>\n",
       "    <tr>\n",
       "      <th>999</th>\n",
       "      <td>748220828303695873</td>\n",
       "      <td>2016-06-29 18:25:21</td>\n",
       "      <td>Stop what you're doing and watch this heckin m...</td>\n",
       "      <td>https://vine.co/v/iiLjKuYJpr6</td>\n",
       "      <td>NaN</td>\n",
       "      <td>NaN</td>\n",
       "      <td>13/10</td>\n",
       "    </tr>\n",
       "  </tbody>\n",
       "</table>\n",
       "</div>"
      ],
      "text/plain": [
       "               tweet_id            timestamp  \\\n",
       "463  817423860136083457  2017-01-06 17:33:29   \n",
       "999  748220828303695873  2016-06-29 18:25:21   \n",
       "\n",
       "                                                  text  \\\n",
       "463  This is Ken. His cheeks are magic. 13/10 (IG: ...   \n",
       "999  Stop what you're doing and watch this heckin m...   \n",
       "\n",
       "                                         expanded_urls name dog_type Rating  \n",
       "463  https://twitter.com/dog_rates/status/817423860...  Ken      NaN  13/10  \n",
       "999                      https://vine.co/v/iiLjKuYJpr6  NaN      NaN  13/10  "
      ]
     },
     "execution_count": 924,
     "metadata": {},
     "output_type": "execute_result"
    }
   ],
   "source": [
    "TArchive_copy.sample(2)"
   ]
  },
  {
   "cell_type": "markdown",
   "id": "87eef5de",
   "metadata": {},
   "source": [
    "### Issue 12: Splitting the time_stamp column"
   ]
  },
  {
   "cell_type": "markdown",
   "id": "0e09fd05",
   "metadata": {},
   "source": [
    "#### Define:  in this column the opposite may occur each column contains both a date and time in hours so it will be better to split each column into 2 other columns holding the names \"Date\", and \"time\" to avoid confusion and i will also reorder the column's order"
   ]
  },
  {
   "cell_type": "markdown",
   "id": "d01e7547",
   "metadata": {},
   "source": [
    "#### Code"
   ]
  },
  {
   "cell_type": "code",
   "execution_count": 925,
   "id": "53a0e0f3",
   "metadata": {},
   "outputs": [],
   "source": [
    "try:\n",
    "    TArchive_copy[['Date', 'Time']] = TArchive_copy.timestamp.str.split(\" \", expand = True)\n",
    "    del TArchive_copy['timestamp']\n",
    "except:\n",
    "    print(\"already done\")\n",
    "TArchive_copy = TArchive_copy.loc[:, [\"tweet_id\",\"Date\",\"Time\", \"text\",\"expanded_urls\", \"name\", \"dog_type\", \"Rating\"]]\n",
    "TArchive_copy['Date']= pd.to_datetime(TArchive_copy['Date'])"
   ]
  },
  {
   "cell_type": "markdown",
   "id": "12a15fed",
   "metadata": {},
   "source": [
    "#### Test"
   ]
  },
  {
   "cell_type": "code",
   "execution_count": 926,
   "id": "c908344a",
   "metadata": {},
   "outputs": [
    {
     "data": {
      "text/html": [
       "<div>\n",
       "<style scoped>\n",
       "    .dataframe tbody tr th:only-of-type {\n",
       "        vertical-align: middle;\n",
       "    }\n",
       "\n",
       "    .dataframe tbody tr th {\n",
       "        vertical-align: top;\n",
       "    }\n",
       "\n",
       "    .dataframe thead th {\n",
       "        text-align: right;\n",
       "    }\n",
       "</style>\n",
       "<table border=\"1\" class=\"dataframe\">\n",
       "  <thead>\n",
       "    <tr style=\"text-align: right;\">\n",
       "      <th></th>\n",
       "      <th>tweet_id</th>\n",
       "      <th>Date</th>\n",
       "      <th>Time</th>\n",
       "      <th>text</th>\n",
       "      <th>expanded_urls</th>\n",
       "      <th>name</th>\n",
       "      <th>dog_type</th>\n",
       "      <th>Rating</th>\n",
       "    </tr>\n",
       "  </thead>\n",
       "  <tbody>\n",
       "    <tr>\n",
       "      <th>1939</th>\n",
       "      <td>673887867907739649</td>\n",
       "      <td>2015-12-07</td>\n",
       "      <td>15:32:42</td>\n",
       "      <td>When you're having a great time sleeping and y...</td>\n",
       "      <td>https://twitter.com/dog_rates/status/673887867...</td>\n",
       "      <td>NaN</td>\n",
       "      <td>NaN</td>\n",
       "      <td>10/10</td>\n",
       "    </tr>\n",
       "    <tr>\n",
       "      <th>640</th>\n",
       "      <td>793241302385262592</td>\n",
       "      <td>2016-11-01</td>\n",
       "      <td>00:00:38</td>\n",
       "      <td>This is Tucker. He's out here bustin h*ckin gh...</td>\n",
       "      <td>https://twitter.com/dog_rates/status/793241302...</td>\n",
       "      <td>Tucker</td>\n",
       "      <td>NaN</td>\n",
       "      <td>13/10</td>\n",
       "    </tr>\n",
       "    <tr>\n",
       "      <th>593</th>\n",
       "      <td>798925684722855936</td>\n",
       "      <td>2016-11-16</td>\n",
       "      <td>16:28:21</td>\n",
       "      <td>This is Shadow. He's a firm believer that they...</td>\n",
       "      <td>https://twitter.com/dog_rates/status/798925684...</td>\n",
       "      <td>Shadow</td>\n",
       "      <td>NaN</td>\n",
       "      <td>11/10</td>\n",
       "    </tr>\n",
       "  </tbody>\n",
       "</table>\n",
       "</div>"
      ],
      "text/plain": [
       "                tweet_id       Date      Time  \\\n",
       "1939  673887867907739649 2015-12-07  15:32:42   \n",
       "640   793241302385262592 2016-11-01  00:00:38   \n",
       "593   798925684722855936 2016-11-16  16:28:21   \n",
       "\n",
       "                                                   text  \\\n",
       "1939  When you're having a great time sleeping and y...   \n",
       "640   This is Tucker. He's out here bustin h*ckin gh...   \n",
       "593   This is Shadow. He's a firm believer that they...   \n",
       "\n",
       "                                          expanded_urls    name dog_type  \\\n",
       "1939  https://twitter.com/dog_rates/status/673887867...     NaN      NaN   \n",
       "640   https://twitter.com/dog_rates/status/793241302...  Tucker      NaN   \n",
       "593   https://twitter.com/dog_rates/status/798925684...  Shadow      NaN   \n",
       "\n",
       "     Rating  \n",
       "1939  10/10  \n",
       "640   13/10  \n",
       "593   11/10  "
      ]
     },
     "execution_count": 926,
     "metadata": {},
     "output_type": "execute_result"
    }
   ],
   "source": [
    "TArchive_copy.sample(3)"
   ]
  },
  {
   "cell_type": "code",
   "execution_count": 927,
   "id": "5da0e31f",
   "metadata": {},
   "outputs": [
    {
     "name": "stdout",
     "output_type": "stream",
     "text": [
      "<class 'pandas.core.frame.DataFrame'>\n",
      "Int64Index: 2175 entries, 0 to 2355\n",
      "Data columns (total 8 columns):\n",
      " #   Column         Non-Null Count  Dtype         \n",
      "---  ------         --------------  -----         \n",
      " 0   tweet_id       2175 non-null   object        \n",
      " 1   Date           2175 non-null   datetime64[ns]\n",
      " 2   Time           2175 non-null   object        \n",
      " 3   text           2175 non-null   object        \n",
      " 4   expanded_urls  2117 non-null   object        \n",
      " 5   name           1439 non-null   object        \n",
      " 6   dog_type       344 non-null    object        \n",
      " 7   Rating         2175 non-null   object        \n",
      "dtypes: datetime64[ns](1), object(7)\n",
      "memory usage: 152.9+ KB\n"
     ]
    }
   ],
   "source": [
    "TArchive_copy.info()"
   ]
  },
  {
   "cell_type": "markdown",
   "id": "16ab285f",
   "metadata": {},
   "source": [
    "### Issue 13: Remove tweets beyond august 1st, 2017"
   ]
  },
  {
   "cell_type": "markdown",
   "id": "a5bbbcc6",
   "metadata": {},
   "source": [
    "#### Define: this issue was requested by the project because the algorathim"
   ]
  },
  {
   "cell_type": "markdown",
   "id": "6d499765",
   "metadata": {},
   "source": [
    "#### Code"
   ]
  },
  {
   "cell_type": "code",
   "execution_count": 928,
   "id": "3a3c747e",
   "metadata": {},
   "outputs": [],
   "source": [
    "TArchive_copy = TArchive_copy[TArchive_copy.Date < '2017-08-01']"
   ]
  },
  {
   "cell_type": "markdown",
   "id": "8c1cfa87",
   "metadata": {},
   "source": [
    "#### Test"
   ]
  },
  {
   "cell_type": "code",
   "execution_count": 929,
   "id": "815580ed",
   "metadata": {},
   "outputs": [
    {
     "name": "stdout",
     "output_type": "stream",
     "text": [
      "<class 'pandas.core.frame.DataFrame'>\n",
      "Int64Index: 2173 entries, 2 to 2355\n",
      "Data columns (total 8 columns):\n",
      " #   Column         Non-Null Count  Dtype         \n",
      "---  ------         --------------  -----         \n",
      " 0   tweet_id       2173 non-null   object        \n",
      " 1   Date           2173 non-null   datetime64[ns]\n",
      " 2   Time           2173 non-null   object        \n",
      " 3   text           2173 non-null   object        \n",
      " 4   expanded_urls  2115 non-null   object        \n",
      " 5   name           1437 non-null   object        \n",
      " 6   dog_type       344 non-null    object        \n",
      " 7   Rating         2173 non-null   object        \n",
      "dtypes: datetime64[ns](1), object(7)\n",
      "memory usage: 152.8+ KB\n"
     ]
    }
   ],
   "source": [
    "TArchive_copy.info()"
   ]
  },
  {
   "cell_type": "markdown",
   "id": "63d2f932",
   "metadata": {},
   "source": [
    "### Issue 14: Delete one of the id rows and change the dtype in twitter_json table"
   ]
  },
  {
   "cell_type": "markdown",
   "id": "57ab7a1d",
   "metadata": {},
   "source": [
    "#### Define: i will delete one of the columns as only one is needed"
   ]
  },
  {
   "cell_type": "markdown",
   "id": "07b69a6f",
   "metadata": {},
   "source": [
    "#### Code"
   ]
  },
  {
   "cell_type": "code",
   "execution_count": 930,
   "id": "72797ee3",
   "metadata": {},
   "outputs": [],
   "source": [
    "tweet_json_copy.id = tweet_json_copy.id.astype('object')\n",
    "try:\n",
    "    del tweet_json_copy[\"id_str\"]\n",
    "except:\n",
    "    print(\"already deleted\")"
   ]
  },
  {
   "cell_type": "markdown",
   "id": "858df15f",
   "metadata": {},
   "source": [
    "#### Test"
   ]
  },
  {
   "cell_type": "code",
   "execution_count": 931,
   "id": "b05e8f6b",
   "metadata": {},
   "outputs": [
    {
     "name": "stdout",
     "output_type": "stream",
     "text": [
      "<class 'pandas.core.frame.DataFrame'>\n",
      "RangeIndex: 2354 entries, 0 to 2353\n",
      "Data columns (total 30 columns):\n",
      " #   Column                         Non-Null Count  Dtype              \n",
      "---  ------                         --------------  -----              \n",
      " 0   created_at                     2354 non-null   datetime64[ns, UTC]\n",
      " 1   id                             2354 non-null   object             \n",
      " 2   full_text                      2354 non-null   object             \n",
      " 3   truncated                      2354 non-null   bool               \n",
      " 4   display_text_range             2354 non-null   object             \n",
      " 5   entities                       2354 non-null   object             \n",
      " 6   extended_entities              2073 non-null   object             \n",
      " 7   source                         2354 non-null   object             \n",
      " 8   in_reply_to_status_id          78 non-null     float64            \n",
      " 9   in_reply_to_status_id_str      78 non-null     float64            \n",
      " 10  in_reply_to_user_id            78 non-null     float64            \n",
      " 11  in_reply_to_user_id_str        78 non-null     float64            \n",
      " 12  in_reply_to_screen_name        78 non-null     object             \n",
      " 13  user                           2354 non-null   object             \n",
      " 14  geo                            0 non-null      float64            \n",
      " 15  coordinates                    0 non-null      float64            \n",
      " 16  place                          1 non-null      object             \n",
      " 17  contributors                   0 non-null      float64            \n",
      " 18  is_quote_status                2354 non-null   bool               \n",
      " 19  retweet_count                  2354 non-null   int64              \n",
      " 20  favorite_count                 2354 non-null   int64              \n",
      " 21  favorited                      2354 non-null   bool               \n",
      " 22  retweeted                      2354 non-null   bool               \n",
      " 23  possibly_sensitive             2211 non-null   float64            \n",
      " 24  possibly_sensitive_appealable  2211 non-null   float64            \n",
      " 25  lang                           2354 non-null   object             \n",
      " 26  retweeted_status               179 non-null    object             \n",
      " 27  quoted_status_id               29 non-null     float64            \n",
      " 28  quoted_status_id_str           29 non-null     float64            \n",
      " 29  quoted_status                  28 non-null     object             \n",
      "dtypes: bool(4), datetime64[ns, UTC](1), float64(11), int64(2), object(12)\n",
      "memory usage: 487.5+ KB\n"
     ]
    }
   ],
   "source": [
    "tweet_json_copy.info()"
   ]
  },
  {
   "cell_type": "markdown",
   "id": "b4e93912",
   "metadata": {},
   "source": [
    "### Issue 15: Joining some columns"
   ]
  },
  {
   "cell_type": "markdown",
   "id": "3a0ce3ef",
   "metadata": {},
   "source": [
    "#### Code"
   ]
  },
  {
   "cell_type": "code",
   "execution_count": 932,
   "id": "afcd3a49",
   "metadata": {},
   "outputs": [],
   "source": [
    "tweet_json_copy = tweet_json_copy[tweet_json_copy.retweeted == False]"
   ]
  },
  {
   "cell_type": "code",
   "execution_count": 933,
   "id": "f6a43d77",
   "metadata": {},
   "outputs": [],
   "source": [
    "TArchive_copy = pd.concat([TArchive_copy, tweet_json_copy[[\"favorited\",  \"favorite_count\"]]], axis=1)\n",
    "#Warning: Run one time "
   ]
  },
  {
   "cell_type": "code",
   "execution_count": 934,
   "id": "486a8933",
   "metadata": {},
   "outputs": [],
   "source": [
    "TArchive_copy = TArchive_copy[TArchive_copy.tweet_id.notnull()]"
   ]
  },
  {
   "cell_type": "markdown",
   "id": "24587c23",
   "metadata": {},
   "source": [
    "#### Test"
   ]
  },
  {
   "cell_type": "code",
   "execution_count": 935,
   "id": "46d7693e",
   "metadata": {},
   "outputs": [
    {
     "data": {
      "text/html": [
       "<div>\n",
       "<style scoped>\n",
       "    .dataframe tbody tr th:only-of-type {\n",
       "        vertical-align: middle;\n",
       "    }\n",
       "\n",
       "    .dataframe tbody tr th {\n",
       "        vertical-align: top;\n",
       "    }\n",
       "\n",
       "    .dataframe thead th {\n",
       "        text-align: right;\n",
       "    }\n",
       "</style>\n",
       "<table border=\"1\" class=\"dataframe\">\n",
       "  <thead>\n",
       "    <tr style=\"text-align: right;\">\n",
       "      <th></th>\n",
       "      <th>tweet_id</th>\n",
       "      <th>Date</th>\n",
       "      <th>Time</th>\n",
       "      <th>text</th>\n",
       "      <th>expanded_urls</th>\n",
       "      <th>name</th>\n",
       "      <th>dog_type</th>\n",
       "      <th>Rating</th>\n",
       "      <th>favorited</th>\n",
       "      <th>favorite_count</th>\n",
       "    </tr>\n",
       "  </thead>\n",
       "  <tbody>\n",
       "    <tr>\n",
       "      <th>1329</th>\n",
       "      <td>705898680587526145</td>\n",
       "      <td>2016-03-04</td>\n",
       "      <td>23:32:15</td>\n",
       "      <td>Meet Max. He's a Fallopian Cephalopuff. Eyes a...</td>\n",
       "      <td>https://twitter.com/dog_rates/status/705898680...</td>\n",
       "      <td>Max</td>\n",
       "      <td>NaN</td>\n",
       "      <td>10/10</td>\n",
       "      <td>False</td>\n",
       "      <td>3475.0</td>\n",
       "    </tr>\n",
       "    <tr>\n",
       "      <th>256</th>\n",
       "      <td>843981021012017153</td>\n",
       "      <td>2017-03-21</td>\n",
       "      <td>00:22:10</td>\n",
       "      <td>HE WAS DOING A SNOOZE NO SHAME IN A SNOOZE 13/...</td>\n",
       "      <td>https://twitter.com/brianstack153/status/79679...</td>\n",
       "      <td>NaN</td>\n",
       "      <td>NaN</td>\n",
       "      <td>13/10</td>\n",
       "      <td>False</td>\n",
       "      <td>23211.0</td>\n",
       "    </tr>\n",
       "    <tr>\n",
       "      <th>2236</th>\n",
       "      <td>668154635664932864</td>\n",
       "      <td>2015-11-21</td>\n",
       "      <td>19:50:53</td>\n",
       "      <td>Fun dogs here. Top one clearly an athlete. Bot...</td>\n",
       "      <td>https://twitter.com/dog_rates/status/668154635...</td>\n",
       "      <td>NaN</td>\n",
       "      <td>NaN</td>\n",
       "      <td>9/10</td>\n",
       "      <td>False</td>\n",
       "      <td>709.0</td>\n",
       "    </tr>\n",
       "  </tbody>\n",
       "</table>\n",
       "</div>"
      ],
      "text/plain": [
       "                tweet_id       Date      Time  \\\n",
       "1329  705898680587526145 2016-03-04  23:32:15   \n",
       "256   843981021012017153 2017-03-21  00:22:10   \n",
       "2236  668154635664932864 2015-11-21  19:50:53   \n",
       "\n",
       "                                                   text  \\\n",
       "1329  Meet Max. He's a Fallopian Cephalopuff. Eyes a...   \n",
       "256   HE WAS DOING A SNOOZE NO SHAME IN A SNOOZE 13/...   \n",
       "2236  Fun dogs here. Top one clearly an athlete. Bot...   \n",
       "\n",
       "                                          expanded_urls name dog_type Rating  \\\n",
       "1329  https://twitter.com/dog_rates/status/705898680...  Max      NaN  10/10   \n",
       "256   https://twitter.com/brianstack153/status/79679...  NaN      NaN  13/10   \n",
       "2236  https://twitter.com/dog_rates/status/668154635...  NaN      NaN   9/10   \n",
       "\n",
       "     favorited  favorite_count  \n",
       "1329     False          3475.0  \n",
       "256      False         23211.0  \n",
       "2236     False           709.0  "
      ]
     },
     "execution_count": 935,
     "metadata": {},
     "output_type": "execute_result"
    }
   ],
   "source": [
    "TArchive_copy.sample(3)"
   ]
  },
  {
   "cell_type": "code",
   "execution_count": 936,
   "id": "ebd2d51d",
   "metadata": {},
   "outputs": [
    {
     "name": "stdout",
     "output_type": "stream",
     "text": [
      "<class 'pandas.core.frame.DataFrame'>\n",
      "Int64Index: 2173 entries, 2 to 2355\n",
      "Data columns (total 10 columns):\n",
      " #   Column          Non-Null Count  Dtype         \n",
      "---  ------          --------------  -----         \n",
      " 0   tweet_id        2173 non-null   object        \n",
      " 1   Date            2173 non-null   datetime64[ns]\n",
      " 2   Time            2173 non-null   object        \n",
      " 3   text            2173 non-null   object        \n",
      " 4   expanded_urls   2115 non-null   object        \n",
      " 5   name            1437 non-null   object        \n",
      " 6   dog_type        344 non-null    object        \n",
      " 7   Rating          2173 non-null   object        \n",
      " 8   favorited       2171 non-null   object        \n",
      " 9   favorite_count  2171 non-null   float64       \n",
      "dtypes: datetime64[ns](1), float64(1), object(8)\n",
      "memory usage: 186.7+ KB\n"
     ]
    }
   ],
   "source": [
    "TArchive_copy.info()"
   ]
  },
  {
   "cell_type": "markdown",
   "id": "1bb30e37",
   "metadata": {},
   "source": [
    "## Storing Data"
   ]
  },
  {
   "cell_type": "code",
   "execution_count": 937,
   "id": "9dbb9e19",
   "metadata": {},
   "outputs": [],
   "source": [
    "TArchive_copy.to_csv('twitter_archive_master.csv', index=False)"
   ]
  },
  {
   "cell_type": "code",
   "execution_count": 938,
   "id": "e5456210",
   "metadata": {},
   "outputs": [],
   "source": [
    "new_TArchive = pd.read_csv(\"twitter_archive_master.csv\")"
   ]
  },
  {
   "cell_type": "markdown",
   "id": "8ae194fb",
   "metadata": {},
   "source": [
    "<a id='A'></a>\n",
    "## Analyzing and Visualizing Data:\n",
    "><li><a href=\"#Q1\">Insight 1</a></li>\n",
    "><li><a href=\"#Q2\">Insight 2</a></li>\n",
    "><li><a href=\"#Q3\">Insight 3</a></li>\n",
    "><li><a href=\"#Q4\">Visuals</a></li>"
   ]
  },
  {
   "cell_type": "markdown",
   "id": "170975ee",
   "metadata": {},
   "source": [
    "<a id='Q1'></a>\n",
    "### Insight 1: Dog's Predictions by the Algorithm"
   ]
  },
  {
   "cell_type": "code",
   "execution_count": 939,
   "id": "62e254cb",
   "metadata": {},
   "outputs": [],
   "source": [
    "p1 = image_pre[(image_pre['p1_dog'] == True) ].index.tolist()\n",
    "p2 = image_pre[(image_pre['p2_dog'] == True) ].index.tolist()\n",
    "p3 = image_pre[(image_pre['p3_dog'] == True) ].index.tolist()\n",
    "dog_types = []\n",
    "\n",
    "def func(list_name, column):\n",
    "    for x in list_name:\n",
    "        dog_types.append(image_pre.at[x, column])\n",
    "                      \n",
    "func(p1, \"p1\")\n",
    "func(p2, \"p2\")\n",
    "func(p3, \"p3\")\n",
    "set1 = set(dog_types)"
   ]
  },
  {
   "cell_type": "code",
   "execution_count": 940,
   "id": "270a8b74",
   "metadata": {},
   "outputs": [],
   "source": [
    "count_list = []\n",
    "for i in set1:\n",
    "    count = operator.countOf(dog_types, i)\n",
    "    count_list.append(count)\n",
    "Dogs_df = pd.DataFrame({'Type':list(set1),'Count':count_list})\n",
    "Dogs_df  = Dogs_df.sort_values(\"Count\", ascending= False)"
   ]
  },
  {
   "cell_type": "code",
   "execution_count": 941,
   "id": "eb7d6310",
   "metadata": {},
   "outputs": [
    {
     "data": {
      "text/plain": [
       "Text(0.5, 1.0, \"Dog's Predictions by the Algorithm\")"
      ]
     },
     "execution_count": 941,
     "metadata": {},
     "output_type": "execute_result"
    },
    {
     "data": {
      "image/png": "[encoded data removed]",
      "text/plain": [
       "<Figure size 1000x800 with 1 Axes>"
      ]
     },
     "metadata": {},
     "output_type": "display_data"
    }
   ],
   "source": [
    "plt.figure(figsize=(10,8))\n",
    "plt.bar(Dogs_df.Type.iloc[:8], Dogs_df.Count.iloc[:8], color=['green'])\n",
    "plt.bar(Dogs_df.Type.iloc[-8:], Dogs_df.Count.iloc[-8:], color=['red'])\n",
    "plt.xticks(rotation='vertical')\n",
    "plt.ylabel(\"Number of correctly predicted images\")\n",
    "plt.xlabel(\"Dog Names\")\n",
    "plt.title(\"Dog's Predictions by the Algorithm\")"
   ]
  },
  {
   "cell_type": "markdown",
   "id": "8516eb9b",
   "metadata": {},
   "source": [
    "> We can see from the graph above contains the highest correct times the algorithm predicted the dog type correctyly and the lowest times the algorithm predicted correctly, in the above graph the dog types that the algorithm predicts correctly it seems that the golden retriever is the easiest for the algorithm to predict and the hardest to predict is the bouvier des flandres, so we can provide more photos of the bouvier des flandres dog breed to the algorithm until it get them right and same goes for the dog breeds which have a low succcess rate"
   ]
  },
  {
   "cell_type": "markdown",
   "id": "a79c4d08",
   "metadata": {},
   "source": [
    "<a id='Q2'></a>\n",
    "### Insight 2: Favoraited Counts in every Month"
   ]
  },
  {
   "cell_type": "code",
   "execution_count": 942,
   "id": "2ee6532d",
   "metadata": {},
   "outputs": [
    {
     "data": {
      "text/plain": [
       "Text(0.5, 1.0, 'Favoraited Counts in every Month')"
      ]
     },
     "execution_count": 942,
     "metadata": {},
     "output_type": "execute_result"
    },
    {
     "data": {
      "image/png": "[encoded data removed]",
      "text/plain": [
       "<Figure size 1200x600 with 1 Axes>"
      ]
     },
     "metadata": {},
     "output_type": "display_data"
    }
   ],
   "source": [
    "plt.figure(figsize=(12,6))\n",
    "plt.bar(new_TArchive.Date.str[:7], new_TArchive.favorite_count, color='cyan')\n",
    "plt.xticks(rotation='vertical')\n",
    "plt.ylabel(\"Favoraited Count\")\n",
    "plt.xlabel(\"Months\")\n",
    "plt.title(\"Favoraited Counts in every Month\")"
   ]
  },
  {
   "cell_type": "markdown",
   "id": "556332d4",
   "metadata": {},
   "source": [
    "> the graph above represents the number of favairotes on tweets for every month in the 3 years 2015, 2016, 2017 although not all months is appearing beacuse of the data, more importantly we can detect from this graph that in every year there are 2 months when the favairote counts increase so much which is in both december and june, i think it's related to vacations because at the end of the year there is a vacation and when working people sit home they usaully use there phones so they will interact more with socail media, that may be a weak reason but that's the only thought i can gather about this"
   ]
  },
  {
   "cell_type": "markdown",
   "id": "ac0e9e54",
   "metadata": {},
   "source": [
    "<a id='Q3'></a>\n",
    "### Insight 3: is there a correlation between the rating of the dogs and the number of people who fav the tweet?"
   ]
  },
  {
   "cell_type": "code",
   "execution_count": 943,
   "id": "3dd66655",
   "metadata": {},
   "outputs": [
    {
     "name": "stderr",
     "output_type": "stream",
     "text": [
      "C:\\Users\\omarz\\AppData\\Local\\Temp\\ipykernel_13016\\141299636.py:3: SettingWithCopyWarning: \n",
      "A value is trying to be set on a copy of a slice from a DataFrame.\n",
      "Try using .loc[row_indexer,col_indexer] = value instead\n",
      "\n",
      "See the caveats in the documentation: https://pandas.pydata.org/pandas-docs/stable/user_guide/indexing.html#returning-a-view-versus-a-copy\n",
      "  fav_rat[['N', 'D']] = fav_rat.Rating.str.split(\"/\", expand = True)\n",
      "C:\\Users\\omarz\\AppData\\Local\\Temp\\ipykernel_13016\\141299636.py:3: SettingWithCopyWarning: \n",
      "A value is trying to be set on a copy of a slice from a DataFrame.\n",
      "Try using .loc[row_indexer,col_indexer] = value instead\n",
      "\n",
      "See the caveats in the documentation: https://pandas.pydata.org/pandas-docs/stable/user_guide/indexing.html#returning-a-view-versus-a-copy\n",
      "  fav_rat[['N', 'D']] = fav_rat.Rating.str.split(\"/\", expand = True)\n"
     ]
    }
   ],
   "source": [
    "try:\n",
    "    fav_rat = new_TArchive[[\"Rating\", \"favorite_count\"]]\n",
    "    fav_rat[['N', 'D']] = fav_rat.Rating.str.split(\"/\", expand = True)\n",
    "    del fav_rat['Rating']\n",
    "except:\n",
    "    print(\"already done\")"
   ]
  },
  {
   "cell_type": "code",
   "execution_count": 944,
   "id": "b3ba3599",
   "metadata": {},
   "outputs": [
    {
     "data": {
      "text/plain": [
       "Text(0.5, 1.0, 'The correlation between Fav_Count and Fav_Count')"
      ]
     },
     "execution_count": 944,
     "metadata": {},
     "output_type": "execute_result"
    },
    {
     "data": {
      "image/png": "[encoded data removed]",
      "text/plain": [
       "<Figure size 640x480 with 1 Axes>"
      ]
     },
     "metadata": {},
     "output_type": "display_data"
    }
   ],
   "source": [
    "fav_rat = fav_rat.sort_values(\"N\", ascending = True)\n",
    "plt.scatter(fav_rat.N, fav_rat.favorite_count, alpha = 0.2, color = \"grey\")\n",
    "plt.xticks(rotation='vertical')\n",
    "plt.ylabel(\"Fav_Count\")\n",
    "plt.xlabel(\"Fav_Count\")\n",
    "plt.title(\"The correlation between Fav_Count and Fav_Count\")"
   ]
  },
  {
   "cell_type": "markdown",
   "id": "b5473eaa",
   "metadata": {},
   "source": [
    "> it doesn't seem there is any correaltion between the rating given and the number of favorites on the tweet"
   ]
  },
  {
   "cell_type": "markdown",
   "id": "5f0f8946",
   "metadata": {},
   "source": [
    "<a id='Q3'></a>\n",
    "### Visualization: Model's efficiency"
   ]
  },
  {
   "cell_type": "code",
   "execution_count": 945,
   "id": "aa532598",
   "metadata": {},
   "outputs": [],
   "source": [
    "sum1 = len(image_pre[image_pre.p1_dog == True]) + len(image_pre[image_pre.p2_dog == True]) + len(image_pre[image_pre.p3_dog == True])\n",
    "sum2 = len(image_pre[image_pre.p1_dog == False]) + len(image_pre[image_pre.p2_dog == False]) + len(image_pre[image_pre.p3_dog == False])"
   ]
  },
  {
   "cell_type": "code",
   "execution_count": 946,
   "id": "1fb7c36b",
   "metadata": {},
   "outputs": [
    {
     "data": {
      "text/plain": [
       "<BarContainer object of 1 artists>"
      ]
     },
     "execution_count": 946,
     "metadata": {},
     "output_type": "execute_result"
    },
    {
     "data": {
      "image/png": "[encoded data removed]",
      "text/plain": [
       "<Figure size 640x480 with 1 Axes>"
      ]
     },
     "metadata": {},
     "output_type": "display_data"
    }
   ],
   "source": [
    "plt.bar(\"True\", sum1, color = \"green\")\n",
    "plt.bar(\"False\", sum2, color = \"red\")"
   ]
  },
  {
   "cell_type": "markdown",
   "id": "20dd6d4f",
   "metadata": {},
   "source": [
    "> it seems that the model works pretty good he got more than half the answers right"
   ]
  },
  {
   "cell_type": "markdown",
   "id": "1e8f23f7",
   "metadata": {},
   "source": [
    "# Refrences:\n",
    "<r>https://stackoverflow.com/</r>\n",
    "<br>https://github.com/</br>\n",
    "<r>https://www.tutorialspoint.com/\\</r>\n",
    "<br>https://learn.udacity.com/</br>\n",
    "<r>https://www.geeksforgeeks.org/</r>\n",
    "<br>https://realpython.com/</br>\n",
    "<r>https://matplotlib.org//</r>\n",
    "<br>https://www.w3schools.com/</br>\n",
    "<r>https://www.imdb.com/interfaces/</r>"
   ]
  }
 ],
 "metadata": {
  "kernelspec": {
   "display_name": "Python 3 (ipykernel)",
   "language": "python",
   "name": "python3"
  },
  "language_info": {
   "codemirror_mode": {
    "name": "ipython",
    "version": 3
   },
   "file_extension": ".py",
   "mimetype": "text/x-python",
   "name": "python",
   "nbconvert_exporter": "python",
   "pygments_lexer": "ipython3",
   "version": "3.9.13"
  },
  "varInspector": {
   "cols": {
    "lenName": 16,
    "lenType": 16,
    "lenVar": 40
   },
   "kernels_config": {
    "python": {
     "delete_cmd_postfix": "",
     "delete_cmd_prefix": "del ",
     "library": "var_list.py",
     "varRefreshCmd": "print(var_dic_list())"
    },
    "r": {
     "delete_cmd_postfix": ") ",
     "delete_cmd_prefix": "rm(",
     "library": "var_list.r",
     "varRefreshCmd": "cat(var_dic_list()) "
    }
   },
   "types_to_exclude": [
    "module",
    "function",
    "builtin_function_or_method",
    "instance",
    "_Feature"
   ],
   "window_display": false
  }
 },
 "nbformat": 4,
 "nbformat_minor": 5
}
